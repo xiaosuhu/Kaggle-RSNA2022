{
 "cells": [
  {
   "cell_type": "code",
   "execution_count": 3,
   "metadata": {},
   "outputs": [],
   "source": [
    "def validate_file_contents(file1, file2):\n",
    "    with open(file1, 'rb') as f1, open(file2, 'rb') as f2:\n",
    "        contents1 = f1.read()\n",
    "        contents2 = f2.read()\n",
    "    return contents1 == contents2     "
   ]
  },
  {
   "cell_type": "code",
   "execution_count": 5,
   "metadata": {},
   "outputs": [
    {
     "data": {
      "text/plain": [
       "False"
      ]
     },
     "execution_count": 5,
     "metadata": {},
     "output_type": "execute_result"
    }
   ],
   "source": [
    "file1 = '/home/frank/Documents/RSNA_MAMMO_1024x512/Self_Image_1024/10706/763186195.png'\n",
    "file2 = '/home/frank/Documents/RSNA_MAMMO_1024x512/Image_1024/10706/763186195.png'\n",
    "validate_file_contents(file1, file2)"
   ]
  },
  {
   "cell_type": "code",
   "execution_count": null,
   "metadata": {},
   "outputs": [],
   "source": [
    "import matplotlib.pyplot as plt\n",
    "import matplotlib.image as img\n",
    "  \n",
    "# reading png image file\n",
    "im1 = img.imread(file1)\n",
    "im2 = img.imread(file2)\n",
    "\n",
    "# show image\n",
    "plt.subplot(1,2,1)\n",
    "plt.imshow(im1)\n",
    "plt.subplot(1,2,2)\n",
    "plt.imshow(im2)"
   ]
  }
 ],
 "metadata": {
  "kernelspec": {
   "display_name": "Python 3",
   "language": "python",
   "name": "python3"
  },
  "language_info": {
   "codemirror_mode": {
    "name": "ipython",
    "version": 3
   },
   "file_extension": ".py",
   "mimetype": "text/x-python",
   "name": "python",
   "nbconvert_exporter": "python",
   "pygments_lexer": "ipython3",
   "version": "3.10.6"
  },
  "orig_nbformat": 4,
  "vscode": {
   "interpreter": {
    "hash": "916dbcbb3f70747c44a77c7bcd40155683ae19c65e1c03b4aa3499c5328201f1"
   }
  }
 },
 "nbformat": 4,
 "nbformat_minor": 2
}
