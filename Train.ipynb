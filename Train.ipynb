{
 "cells": [
  {
   "cell_type": "code",
   "execution_count": 1,
   "metadata": {},
   "outputs": [],
   "source": [
    "import gc\n",
    "import os\n",
    "\n",
    "# import cv2\n",
    "import matplotlib.pyplot as plt\n",
    "import numpy as np\n",
    "import pandas as pd\n",
    "import sklearn\n",
    "import torch\n",
    "import wandb\n",
    "\n",
    "from PIL import Image\n",
    "from sklearn.model_selection import GroupKFold\n",
    "from sklearn.preprocessing import LabelEncoder\n",
    "import sys\n",
    "sys.path.append('../input/timm-pytorch-image-models/pytorch-image-models-master')\n",
    "from timm import create_model, list_models\n",
    "from timm.data import create_transform\n",
    "from torch.cuda.amp import GradScaler, autocast\n",
    "from tqdm import tqdm"
   ]
  },
  {
   "cell_type": "code",
   "execution_count": 2,
   "metadata": {},
   "outputs": [],
   "source": [
    "plt.rcParams['figure.figsize'] = (20, 5)\n",
    "pd.set_option('display.max_rows', 100)\n",
    "pd.set_option('display.max_columns', 1000)"
   ]
  },
  {
   "cell_type": "code",
   "execution_count": 3,
   "metadata": {},
   "outputs": [
    {
     "name": "stdout",
     "output_type": "stream",
     "text": [
      "Running locally\n"
     ]
    }
   ],
   "source": [
    "# Common\n",
    "try:\n",
    "    from kaggle_secrets import UserSecretsClient\n",
    "    IS_KAGGLE = True\n",
    "except:\n",
    "    IS_KAGGLE = False\n",
    "\n",
    "os.environ[\"WANDB_MODE\"] = \"online\"\n",
    "if os.environ[\"WANDB_MODE\"] == \"online\":\n",
    "    if IS_KAGGLE:\n",
    "        os.environ['WANDB_API_KEY'] = UserSecretsClient().get_secret(\"WANDB_API_KEY\")\n",
    "\n",
    "RSNA_2022_PATH = '../input/rsna-breast-cancer-detection'\n",
    "TRAIN_IMAGES_PATH = f'/kaggle/input/rsna-cut-off-empty-space-from-images'\n",
    "MAX_TRAIN_BATCHES = 40000\n",
    "MAX_EVAL_BATCHES = 400\n",
    "MODELS_PATH = '/kaggle/input/wandb-models/models'\n",
    "NUM_WORKERS = 8\n",
    "PREDICT_MAX_BATCHES = 1e9\n",
    "N_FOLDS = 5\n",
    "FOLDS = np.array(os.environ.get('FOLDS', '0,1,2,3,4').split(',')).astype(int)\n",
    "WANDB_SWEEP_PROJECT = 'rsna-breast-cancer-sweeps'\n",
    "WANDB_PROJECT = 'RSNA-breast-cancer-v4'\n",
    "\n",
    "CATEGORY_AUX_TARGETS = ['site_id', 'laterality', 'view', 'implant', 'biopsy', 'invasive', 'BIRADS', 'density', 'difficult_negative_case', 'machine_id', 'age']\n",
    "TARGET = 'cancer'\n",
    "ALL_FEAT = [TARGET] + CATEGORY_AUX_TARGETS\n",
    "\n",
    "if not IS_KAGGLE:\n",
    "    print('Running locally')\n",
    "    RSNA_2022_PATH = '.'\n",
    "    TRAIN_IMAGES_PATH = './Image'\n",
    "    MODELS_PATH = './models'\n",
    "    os.environ['WANDB_API_KEY'] = 'f9429ad0b47cd358cecced15639c23efd26569e8'\n",
    "\n",
    "DEVICE = 'cuda' if torch.cuda.is_available() else 'cpu'"
   ]
  },
  {
   "cell_type": "code",
   "execution_count": 4,
   "metadata": {},
   "outputs": [],
   "source": [
    "# Switchers\n",
    "DEBUG = False\n",
    "WANDB_SWEEP = False\n",
    "TRAIN = True\n",
    "CV = True"
   ]
  },
  {
   "cell_type": "code",
   "execution_count": 5,
   "metadata": {},
   "outputs": [
    {
     "name": "stdout",
     "output_type": "stream",
     "text": [
      "run seresnext50_32x4d_lr0.0004_ep3_bs8_pw20_aux94_adam_aug_drop0.0 folds [0 1 2 3 4]\n"
     ]
    }
   ],
   "source": [
    "# Config\n",
    "\n",
    "class Config:\n",
    "    # These are optimal parameters collected from https://wandb.ai/vslaykovsky/rsna-breast-cancer-sweeps/sweeps/k281hlr9?workspace=user-vslaykovsky\n",
    "    ONE_CYCLE = True\n",
    "    ONE_CYCLE_PCT_START = 0.1\n",
    "    ADAMW = False\n",
    "    ADAMW_DECAY = 0.024\n",
    "    # ONE_CYCLE_MAX_LR = float(os.environ.get('LR', '0.0008'))\n",
    "    ONE_CYCLE_MAX_LR = float(os.environ.get('LR', '0.0004'))\n",
    "    EPOCHS = int(os.environ.get('EPOCHS', 3))\n",
    "    MODEL_TYPE = os.environ.get('MODEL', 'seresnext50_32x4d')\n",
    "    DROPOUT = float(os.environ.get('DROPOUT', 0.0))\n",
    "    AUG = os.environ.get('AUG', 'true').lower() == 'true'\n",
    "    AUX_LOSS_WEIGHT = 94\n",
    "    POSITIVE_TARGET_WEIGHT=20\n",
    "    # BATCH_SIZE = 32\n",
    "    BATCH_SIZE = 16\n",
    "    AUTO_AUG_M = 10\n",
    "    AUTO_AUG_N = 2\n",
    "    TTA = False\n",
    "\n",
    "\n",
    "WANDB_RUN_NAME = f'{Config.MODEL_TYPE}_lr{Config.ONE_CYCLE_MAX_LR}_ep{Config.EPOCHS}_bs{Config.BATCH_SIZE}_pw{Config.POSITIVE_TARGET_WEIGHT}_' +\\\n",
    "f'aux{Config.AUX_LOSS_WEIGHT}_{\"adamw\" if Config.ADAMW else \"adam\"}_{\"aug\" if Config.AUG else \"noaug\"}_drop{Config.DROPOUT}'\n",
    "print('run', WANDB_RUN_NAME, 'folds', FOLDS)\n"
   ]
  },
  {
   "cell_type": "code",
   "execution_count": 6,
   "metadata": {},
   "outputs": [
    {
     "data": {
      "text/html": [
       "<div>\n",
       "<style scoped>\n",
       "    .dataframe tbody tr th:only-of-type {\n",
       "        vertical-align: middle;\n",
       "    }\n",
       "\n",
       "    .dataframe tbody tr th {\n",
       "        vertical-align: top;\n",
       "    }\n",
       "\n",
       "    .dataframe thead th {\n",
       "        text-align: right;\n",
       "    }\n",
       "</style>\n",
       "<table border=\"1\" class=\"dataframe\">\n",
       "  <thead>\n",
       "    <tr style=\"text-align: right;\">\n",
       "      <th></th>\n",
       "      <th>site_id</th>\n",
       "      <th>patient_id</th>\n",
       "      <th>image_id</th>\n",
       "      <th>laterality</th>\n",
       "      <th>view</th>\n",
       "      <th>age</th>\n",
       "      <th>cancer</th>\n",
       "      <th>biopsy</th>\n",
       "      <th>invasive</th>\n",
       "      <th>BIRADS</th>\n",
       "      <th>implant</th>\n",
       "      <th>density</th>\n",
       "      <th>machine_id</th>\n",
       "      <th>difficult_negative_case</th>\n",
       "    </tr>\n",
       "  </thead>\n",
       "  <tbody>\n",
       "    <tr>\n",
       "      <th>0</th>\n",
       "      <td>2</td>\n",
       "      <td>10006</td>\n",
       "      <td>462822612</td>\n",
       "      <td>L</td>\n",
       "      <td>CC</td>\n",
       "      <td>61.0</td>\n",
       "      <td>0</td>\n",
       "      <td>0</td>\n",
       "      <td>0</td>\n",
       "      <td>NaN</td>\n",
       "      <td>0</td>\n",
       "      <td>NaN</td>\n",
       "      <td>29</td>\n",
       "      <td>False</td>\n",
       "    </tr>\n",
       "    <tr>\n",
       "      <th>1</th>\n",
       "      <td>2</td>\n",
       "      <td>10006</td>\n",
       "      <td>1459541791</td>\n",
       "      <td>L</td>\n",
       "      <td>MLO</td>\n",
       "      <td>61.0</td>\n",
       "      <td>0</td>\n",
       "      <td>0</td>\n",
       "      <td>0</td>\n",
       "      <td>NaN</td>\n",
       "      <td>0</td>\n",
       "      <td>NaN</td>\n",
       "      <td>29</td>\n",
       "      <td>False</td>\n",
       "    </tr>\n",
       "    <tr>\n",
       "      <th>2</th>\n",
       "      <td>2</td>\n",
       "      <td>10006</td>\n",
       "      <td>1864590858</td>\n",
       "      <td>R</td>\n",
       "      <td>MLO</td>\n",
       "      <td>61.0</td>\n",
       "      <td>0</td>\n",
       "      <td>0</td>\n",
       "      <td>0</td>\n",
       "      <td>NaN</td>\n",
       "      <td>0</td>\n",
       "      <td>NaN</td>\n",
       "      <td>29</td>\n",
       "      <td>False</td>\n",
       "    </tr>\n",
       "    <tr>\n",
       "      <th>3</th>\n",
       "      <td>2</td>\n",
       "      <td>10006</td>\n",
       "      <td>1874946579</td>\n",
       "      <td>R</td>\n",
       "      <td>CC</td>\n",
       "      <td>61.0</td>\n",
       "      <td>0</td>\n",
       "      <td>0</td>\n",
       "      <td>0</td>\n",
       "      <td>NaN</td>\n",
       "      <td>0</td>\n",
       "      <td>NaN</td>\n",
       "      <td>29</td>\n",
       "      <td>False</td>\n",
       "    </tr>\n",
       "    <tr>\n",
       "      <th>4</th>\n",
       "      <td>2</td>\n",
       "      <td>10011</td>\n",
       "      <td>220375232</td>\n",
       "      <td>L</td>\n",
       "      <td>CC</td>\n",
       "      <td>55.0</td>\n",
       "      <td>0</td>\n",
       "      <td>0</td>\n",
       "      <td>0</td>\n",
       "      <td>0.0</td>\n",
       "      <td>0</td>\n",
       "      <td>NaN</td>\n",
       "      <td>21</td>\n",
       "      <td>True</td>\n",
       "    </tr>\n",
       "    <tr>\n",
       "      <th>...</th>\n",
       "      <td>...</td>\n",
       "      <td>...</td>\n",
       "      <td>...</td>\n",
       "      <td>...</td>\n",
       "      <td>...</td>\n",
       "      <td>...</td>\n",
       "      <td>...</td>\n",
       "      <td>...</td>\n",
       "      <td>...</td>\n",
       "      <td>...</td>\n",
       "      <td>...</td>\n",
       "      <td>...</td>\n",
       "      <td>...</td>\n",
       "      <td>...</td>\n",
       "    </tr>\n",
       "    <tr>\n",
       "      <th>54701</th>\n",
       "      <td>1</td>\n",
       "      <td>9973</td>\n",
       "      <td>1729524723</td>\n",
       "      <td>R</td>\n",
       "      <td>MLO</td>\n",
       "      <td>43.0</td>\n",
       "      <td>0</td>\n",
       "      <td>0</td>\n",
       "      <td>0</td>\n",
       "      <td>1.0</td>\n",
       "      <td>0</td>\n",
       "      <td>C</td>\n",
       "      <td>49</td>\n",
       "      <td>False</td>\n",
       "    </tr>\n",
       "    <tr>\n",
       "      <th>54702</th>\n",
       "      <td>1</td>\n",
       "      <td>9989</td>\n",
       "      <td>63473691</td>\n",
       "      <td>L</td>\n",
       "      <td>MLO</td>\n",
       "      <td>60.0</td>\n",
       "      <td>0</td>\n",
       "      <td>0</td>\n",
       "      <td>0</td>\n",
       "      <td>NaN</td>\n",
       "      <td>0</td>\n",
       "      <td>C</td>\n",
       "      <td>216</td>\n",
       "      <td>False</td>\n",
       "    </tr>\n",
       "    <tr>\n",
       "      <th>54703</th>\n",
       "      <td>1</td>\n",
       "      <td>9989</td>\n",
       "      <td>1078943060</td>\n",
       "      <td>L</td>\n",
       "      <td>CC</td>\n",
       "      <td>60.0</td>\n",
       "      <td>0</td>\n",
       "      <td>0</td>\n",
       "      <td>0</td>\n",
       "      <td>NaN</td>\n",
       "      <td>0</td>\n",
       "      <td>C</td>\n",
       "      <td>216</td>\n",
       "      <td>False</td>\n",
       "    </tr>\n",
       "    <tr>\n",
       "      <th>54704</th>\n",
       "      <td>1</td>\n",
       "      <td>9989</td>\n",
       "      <td>398038886</td>\n",
       "      <td>R</td>\n",
       "      <td>MLO</td>\n",
       "      <td>60.0</td>\n",
       "      <td>0</td>\n",
       "      <td>0</td>\n",
       "      <td>0</td>\n",
       "      <td>0.0</td>\n",
       "      <td>0</td>\n",
       "      <td>C</td>\n",
       "      <td>216</td>\n",
       "      <td>True</td>\n",
       "    </tr>\n",
       "    <tr>\n",
       "      <th>54705</th>\n",
       "      <td>1</td>\n",
       "      <td>9989</td>\n",
       "      <td>439796429</td>\n",
       "      <td>R</td>\n",
       "      <td>CC</td>\n",
       "      <td>60.0</td>\n",
       "      <td>0</td>\n",
       "      <td>0</td>\n",
       "      <td>0</td>\n",
       "      <td>0.0</td>\n",
       "      <td>0</td>\n",
       "      <td>C</td>\n",
       "      <td>216</td>\n",
       "      <td>True</td>\n",
       "    </tr>\n",
       "  </tbody>\n",
       "</table>\n",
       "<p>54706 rows × 14 columns</p>\n",
       "</div>"
      ],
      "text/plain": [
       "       site_id  patient_id    image_id laterality view   age  cancer  biopsy  \\\n",
       "0            2       10006   462822612          L   CC  61.0       0       0   \n",
       "1            2       10006  1459541791          L  MLO  61.0       0       0   \n",
       "2            2       10006  1864590858          R  MLO  61.0       0       0   \n",
       "3            2       10006  1874946579          R   CC  61.0       0       0   \n",
       "4            2       10011   220375232          L   CC  55.0       0       0   \n",
       "...        ...         ...         ...        ...  ...   ...     ...     ...   \n",
       "54701        1        9973  1729524723          R  MLO  43.0       0       0   \n",
       "54702        1        9989    63473691          L  MLO  60.0       0       0   \n",
       "54703        1        9989  1078943060          L   CC  60.0       0       0   \n",
       "54704        1        9989   398038886          R  MLO  60.0       0       0   \n",
       "54705        1        9989   439796429          R   CC  60.0       0       0   \n",
       "\n",
       "       invasive  BIRADS  implant density  machine_id  difficult_negative_case  \n",
       "0             0     NaN        0     NaN          29                    False  \n",
       "1             0     NaN        0     NaN          29                    False  \n",
       "2             0     NaN        0     NaN          29                    False  \n",
       "3             0     NaN        0     NaN          29                    False  \n",
       "4             0     0.0        0     NaN          21                     True  \n",
       "...         ...     ...      ...     ...         ...                      ...  \n",
       "54701         0     1.0        0       C          49                    False  \n",
       "54702         0     NaN        0       C         216                    False  \n",
       "54703         0     NaN        0       C         216                    False  \n",
       "54704         0     0.0        0       C         216                     True  \n",
       "54705         0     0.0        0       C         216                     True  \n",
       "\n",
       "[54706 rows x 14 columns]"
      ]
     },
     "execution_count": 6,
     "metadata": {},
     "output_type": "execute_result"
    }
   ],
   "source": [
    "df_train = pd.read_csv(f'{RSNA_2022_PATH}/train.csv')\n",
    "df_train"
   ]
  },
  {
   "cell_type": "code",
   "execution_count": 7,
   "metadata": {},
   "outputs": [
    {
     "data": {
      "text/plain": [
       "split\n",
       "0    0.021127\n",
       "1    0.021096\n",
       "2    0.021205\n",
       "3    0.021209\n",
       "4    0.021203\n",
       "Name: cancer, dtype: float64"
      ]
     },
     "execution_count": 7,
     "metadata": {},
     "output_type": "execute_result"
    }
   ],
   "source": [
    "from sklearn.model_selection import StratifiedGroupKFold\n",
    "\n",
    "split = StratifiedGroupKFold(N_FOLDS)\n",
    "for k, (_, test_idx) in enumerate(split.split(df_train, df_train.cancer, groups=df_train.patient_id)):\n",
    "    df_train.loc[test_idx, 'split'] = k\n",
    "df_train.split = df_train.split.astype(int)\n",
    "df_train.groupby('split').cancer.mean()"
   ]
  },
  {
   "cell_type": "code",
   "execution_count": 8,
   "metadata": {},
   "outputs": [
    {
     "data": {
      "text/html": [
       "<div>\n",
       "<style scoped>\n",
       "    .dataframe tbody tr th:only-of-type {\n",
       "        vertical-align: middle;\n",
       "    }\n",
       "\n",
       "    .dataframe tbody tr th {\n",
       "        vertical-align: top;\n",
       "    }\n",
       "\n",
       "    .dataframe thead th {\n",
       "        text-align: right;\n",
       "    }\n",
       "</style>\n",
       "<table border=\"1\" class=\"dataframe\">\n",
       "  <thead>\n",
       "    <tr style=\"text-align: right;\">\n",
       "      <th></th>\n",
       "      <th>site_id</th>\n",
       "      <th>patient_id</th>\n",
       "      <th>image_id</th>\n",
       "      <th>laterality</th>\n",
       "      <th>view</th>\n",
       "      <th>age</th>\n",
       "      <th>cancer</th>\n",
       "      <th>biopsy</th>\n",
       "      <th>invasive</th>\n",
       "      <th>BIRADS</th>\n",
       "      <th>implant</th>\n",
       "      <th>density</th>\n",
       "      <th>machine_id</th>\n",
       "      <th>difficult_negative_case</th>\n",
       "      <th>split</th>\n",
       "    </tr>\n",
       "  </thead>\n",
       "  <tbody>\n",
       "    <tr>\n",
       "      <th>0</th>\n",
       "      <td>2</td>\n",
       "      <td>10006</td>\n",
       "      <td>462822612</td>\n",
       "      <td>L</td>\n",
       "      <td>CC</td>\n",
       "      <td>5</td>\n",
       "      <td>0</td>\n",
       "      <td>0</td>\n",
       "      <td>0</td>\n",
       "      <td>NaN</td>\n",
       "      <td>0</td>\n",
       "      <td>NaN</td>\n",
       "      <td>29</td>\n",
       "      <td>False</td>\n",
       "      <td>3</td>\n",
       "    </tr>\n",
       "    <tr>\n",
       "      <th>1</th>\n",
       "      <td>2</td>\n",
       "      <td>10006</td>\n",
       "      <td>1459541791</td>\n",
       "      <td>L</td>\n",
       "      <td>MLO</td>\n",
       "      <td>5</td>\n",
       "      <td>0</td>\n",
       "      <td>0</td>\n",
       "      <td>0</td>\n",
       "      <td>NaN</td>\n",
       "      <td>0</td>\n",
       "      <td>NaN</td>\n",
       "      <td>29</td>\n",
       "      <td>False</td>\n",
       "      <td>3</td>\n",
       "    </tr>\n",
       "    <tr>\n",
       "      <th>2</th>\n",
       "      <td>2</td>\n",
       "      <td>10006</td>\n",
       "      <td>1864590858</td>\n",
       "      <td>R</td>\n",
       "      <td>MLO</td>\n",
       "      <td>5</td>\n",
       "      <td>0</td>\n",
       "      <td>0</td>\n",
       "      <td>0</td>\n",
       "      <td>NaN</td>\n",
       "      <td>0</td>\n",
       "      <td>NaN</td>\n",
       "      <td>29</td>\n",
       "      <td>False</td>\n",
       "      <td>3</td>\n",
       "    </tr>\n",
       "    <tr>\n",
       "      <th>3</th>\n",
       "      <td>2</td>\n",
       "      <td>10006</td>\n",
       "      <td>1874946579</td>\n",
       "      <td>R</td>\n",
       "      <td>CC</td>\n",
       "      <td>5</td>\n",
       "      <td>0</td>\n",
       "      <td>0</td>\n",
       "      <td>0</td>\n",
       "      <td>NaN</td>\n",
       "      <td>0</td>\n",
       "      <td>NaN</td>\n",
       "      <td>29</td>\n",
       "      <td>False</td>\n",
       "      <td>3</td>\n",
       "    </tr>\n",
       "    <tr>\n",
       "      <th>4</th>\n",
       "      <td>2</td>\n",
       "      <td>10011</td>\n",
       "      <td>220375232</td>\n",
       "      <td>L</td>\n",
       "      <td>CC</td>\n",
       "      <td>3</td>\n",
       "      <td>0</td>\n",
       "      <td>0</td>\n",
       "      <td>0</td>\n",
       "      <td>0.0</td>\n",
       "      <td>0</td>\n",
       "      <td>NaN</td>\n",
       "      <td>21</td>\n",
       "      <td>True</td>\n",
       "      <td>1</td>\n",
       "    </tr>\n",
       "    <tr>\n",
       "      <th>...</th>\n",
       "      <td>...</td>\n",
       "      <td>...</td>\n",
       "      <td>...</td>\n",
       "      <td>...</td>\n",
       "      <td>...</td>\n",
       "      <td>...</td>\n",
       "      <td>...</td>\n",
       "      <td>...</td>\n",
       "      <td>...</td>\n",
       "      <td>...</td>\n",
       "      <td>...</td>\n",
       "      <td>...</td>\n",
       "      <td>...</td>\n",
       "      <td>...</td>\n",
       "      <td>...</td>\n",
       "    </tr>\n",
       "    <tr>\n",
       "      <th>54701</th>\n",
       "      <td>1</td>\n",
       "      <td>9973</td>\n",
       "      <td>1729524723</td>\n",
       "      <td>R</td>\n",
       "      <td>MLO</td>\n",
       "      <td>0</td>\n",
       "      <td>0</td>\n",
       "      <td>0</td>\n",
       "      <td>0</td>\n",
       "      <td>1.0</td>\n",
       "      <td>0</td>\n",
       "      <td>C</td>\n",
       "      <td>49</td>\n",
       "      <td>False</td>\n",
       "      <td>2</td>\n",
       "    </tr>\n",
       "    <tr>\n",
       "      <th>54702</th>\n",
       "      <td>1</td>\n",
       "      <td>9989</td>\n",
       "      <td>63473691</td>\n",
       "      <td>L</td>\n",
       "      <td>MLO</td>\n",
       "      <td>5</td>\n",
       "      <td>0</td>\n",
       "      <td>0</td>\n",
       "      <td>0</td>\n",
       "      <td>NaN</td>\n",
       "      <td>0</td>\n",
       "      <td>C</td>\n",
       "      <td>216</td>\n",
       "      <td>False</td>\n",
       "      <td>0</td>\n",
       "    </tr>\n",
       "    <tr>\n",
       "      <th>54703</th>\n",
       "      <td>1</td>\n",
       "      <td>9989</td>\n",
       "      <td>1078943060</td>\n",
       "      <td>L</td>\n",
       "      <td>CC</td>\n",
       "      <td>5</td>\n",
       "      <td>0</td>\n",
       "      <td>0</td>\n",
       "      <td>0</td>\n",
       "      <td>NaN</td>\n",
       "      <td>0</td>\n",
       "      <td>C</td>\n",
       "      <td>216</td>\n",
       "      <td>False</td>\n",
       "      <td>0</td>\n",
       "    </tr>\n",
       "    <tr>\n",
       "      <th>54704</th>\n",
       "      <td>1</td>\n",
       "      <td>9989</td>\n",
       "      <td>398038886</td>\n",
       "      <td>R</td>\n",
       "      <td>MLO</td>\n",
       "      <td>5</td>\n",
       "      <td>0</td>\n",
       "      <td>0</td>\n",
       "      <td>0</td>\n",
       "      <td>0.0</td>\n",
       "      <td>0</td>\n",
       "      <td>C</td>\n",
       "      <td>216</td>\n",
       "      <td>True</td>\n",
       "      <td>0</td>\n",
       "    </tr>\n",
       "    <tr>\n",
       "      <th>54705</th>\n",
       "      <td>1</td>\n",
       "      <td>9989</td>\n",
       "      <td>439796429</td>\n",
       "      <td>R</td>\n",
       "      <td>CC</td>\n",
       "      <td>5</td>\n",
       "      <td>0</td>\n",
       "      <td>0</td>\n",
       "      <td>0</td>\n",
       "      <td>0.0</td>\n",
       "      <td>0</td>\n",
       "      <td>C</td>\n",
       "      <td>216</td>\n",
       "      <td>True</td>\n",
       "      <td>0</td>\n",
       "    </tr>\n",
       "  </tbody>\n",
       "</table>\n",
       "<p>54706 rows × 15 columns</p>\n",
       "</div>"
      ],
      "text/plain": [
       "       site_id  patient_id    image_id laterality view  age  cancer  biopsy  \\\n",
       "0            2       10006   462822612          L   CC    5       0       0   \n",
       "1            2       10006  1459541791          L  MLO    5       0       0   \n",
       "2            2       10006  1864590858          R  MLO    5       0       0   \n",
       "3            2       10006  1874946579          R   CC    5       0       0   \n",
       "4            2       10011   220375232          L   CC    3       0       0   \n",
       "...        ...         ...         ...        ...  ...  ...     ...     ...   \n",
       "54701        1        9973  1729524723          R  MLO    0       0       0   \n",
       "54702        1        9989    63473691          L  MLO    5       0       0   \n",
       "54703        1        9989  1078943060          L   CC    5       0       0   \n",
       "54704        1        9989   398038886          R  MLO    5       0       0   \n",
       "54705        1        9989   439796429          R   CC    5       0       0   \n",
       "\n",
       "       invasive  BIRADS  implant density  machine_id  difficult_negative_case  \\\n",
       "0             0     NaN        0     NaN          29                    False   \n",
       "1             0     NaN        0     NaN          29                    False   \n",
       "2             0     NaN        0     NaN          29                    False   \n",
       "3             0     NaN        0     NaN          29                    False   \n",
       "4             0     0.0        0     NaN          21                     True   \n",
       "...         ...     ...      ...     ...         ...                      ...   \n",
       "54701         0     1.0        0       C          49                    False   \n",
       "54702         0     NaN        0       C         216                    False   \n",
       "54703         0     NaN        0       C         216                    False   \n",
       "54704         0     0.0        0       C         216                     True   \n",
       "54705         0     0.0        0       C         216                     True   \n",
       "\n",
       "       split  \n",
       "0          3  \n",
       "1          3  \n",
       "2          3  \n",
       "3          3  \n",
       "4          1  \n",
       "...      ...  \n",
       "54701      2  \n",
       "54702      0  \n",
       "54703      0  \n",
       "54704      0  \n",
       "54705      0  \n",
       "\n",
       "[54706 rows x 15 columns]"
      ]
     },
     "execution_count": 8,
     "metadata": {},
     "output_type": "execute_result"
    }
   ],
   "source": [
    "df_train.age.fillna(df_train.age.mean(), inplace=True)\n",
    "df_train['age'] = pd.qcut(df_train.age, 10, labels=range(10), retbins=False).astype(int)\n",
    "df_train"
   ]
  },
  {
   "cell_type": "code",
   "execution_count": 9,
   "metadata": {},
   "outputs": [
    {
     "data": {
      "text/html": [
       "<div>\n",
       "<style scoped>\n",
       "    .dataframe tbody tr th:only-of-type {\n",
       "        vertical-align: middle;\n",
       "    }\n",
       "\n",
       "    .dataframe tbody tr th {\n",
       "        vertical-align: top;\n",
       "    }\n",
       "\n",
       "    .dataframe thead th {\n",
       "        text-align: right;\n",
       "    }\n",
       "</style>\n",
       "<table border=\"1\" class=\"dataframe\">\n",
       "  <thead>\n",
       "    <tr style=\"text-align: right;\">\n",
       "      <th></th>\n",
       "      <th>cancer</th>\n",
       "      <th>site_id</th>\n",
       "      <th>laterality</th>\n",
       "      <th>view</th>\n",
       "      <th>implant</th>\n",
       "      <th>biopsy</th>\n",
       "      <th>invasive</th>\n",
       "      <th>BIRADS</th>\n",
       "      <th>density</th>\n",
       "      <th>difficult_negative_case</th>\n",
       "      <th>machine_id</th>\n",
       "      <th>age</th>\n",
       "    </tr>\n",
       "  </thead>\n",
       "  <tbody>\n",
       "    <tr>\n",
       "      <th>0</th>\n",
       "      <td>0</td>\n",
       "      <td>1</td>\n",
       "      <td>0</td>\n",
       "      <td>1</td>\n",
       "      <td>0</td>\n",
       "      <td>0</td>\n",
       "      <td>0</td>\n",
       "      <td>3</td>\n",
       "      <td>4</td>\n",
       "      <td>0</td>\n",
       "      <td>1</td>\n",
       "      <td>5</td>\n",
       "    </tr>\n",
       "    <tr>\n",
       "      <th>1</th>\n",
       "      <td>0</td>\n",
       "      <td>1</td>\n",
       "      <td>0</td>\n",
       "      <td>5</td>\n",
       "      <td>0</td>\n",
       "      <td>0</td>\n",
       "      <td>0</td>\n",
       "      <td>3</td>\n",
       "      <td>4</td>\n",
       "      <td>0</td>\n",
       "      <td>1</td>\n",
       "      <td>5</td>\n",
       "    </tr>\n",
       "    <tr>\n",
       "      <th>2</th>\n",
       "      <td>0</td>\n",
       "      <td>1</td>\n",
       "      <td>1</td>\n",
       "      <td>5</td>\n",
       "      <td>0</td>\n",
       "      <td>0</td>\n",
       "      <td>0</td>\n",
       "      <td>3</td>\n",
       "      <td>4</td>\n",
       "      <td>0</td>\n",
       "      <td>1</td>\n",
       "      <td>5</td>\n",
       "    </tr>\n",
       "    <tr>\n",
       "      <th>3</th>\n",
       "      <td>0</td>\n",
       "      <td>1</td>\n",
       "      <td>1</td>\n",
       "      <td>1</td>\n",
       "      <td>0</td>\n",
       "      <td>0</td>\n",
       "      <td>0</td>\n",
       "      <td>3</td>\n",
       "      <td>4</td>\n",
       "      <td>0</td>\n",
       "      <td>1</td>\n",
       "      <td>5</td>\n",
       "    </tr>\n",
       "    <tr>\n",
       "      <th>4</th>\n",
       "      <td>0</td>\n",
       "      <td>1</td>\n",
       "      <td>0</td>\n",
       "      <td>1</td>\n",
       "      <td>0</td>\n",
       "      <td>0</td>\n",
       "      <td>0</td>\n",
       "      <td>0</td>\n",
       "      <td>4</td>\n",
       "      <td>1</td>\n",
       "      <td>0</td>\n",
       "      <td>3</td>\n",
       "    </tr>\n",
       "    <tr>\n",
       "      <th>...</th>\n",
       "      <td>...</td>\n",
       "      <td>...</td>\n",
       "      <td>...</td>\n",
       "      <td>...</td>\n",
       "      <td>...</td>\n",
       "      <td>...</td>\n",
       "      <td>...</td>\n",
       "      <td>...</td>\n",
       "      <td>...</td>\n",
       "      <td>...</td>\n",
       "      <td>...</td>\n",
       "      <td>...</td>\n",
       "    </tr>\n",
       "    <tr>\n",
       "      <th>54701</th>\n",
       "      <td>0</td>\n",
       "      <td>0</td>\n",
       "      <td>1</td>\n",
       "      <td>5</td>\n",
       "      <td>0</td>\n",
       "      <td>0</td>\n",
       "      <td>0</td>\n",
       "      <td>1</td>\n",
       "      <td>2</td>\n",
       "      <td>0</td>\n",
       "      <td>3</td>\n",
       "      <td>0</td>\n",
       "    </tr>\n",
       "    <tr>\n",
       "      <th>54702</th>\n",
       "      <td>0</td>\n",
       "      <td>0</td>\n",
       "      <td>0</td>\n",
       "      <td>5</td>\n",
       "      <td>0</td>\n",
       "      <td>0</td>\n",
       "      <td>0</td>\n",
       "      <td>3</td>\n",
       "      <td>2</td>\n",
       "      <td>0</td>\n",
       "      <td>9</td>\n",
       "      <td>5</td>\n",
       "    </tr>\n",
       "    <tr>\n",
       "      <th>54703</th>\n",
       "      <td>0</td>\n",
       "      <td>0</td>\n",
       "      <td>0</td>\n",
       "      <td>1</td>\n",
       "      <td>0</td>\n",
       "      <td>0</td>\n",
       "      <td>0</td>\n",
       "      <td>3</td>\n",
       "      <td>2</td>\n",
       "      <td>0</td>\n",
       "      <td>9</td>\n",
       "      <td>5</td>\n",
       "    </tr>\n",
       "    <tr>\n",
       "      <th>54704</th>\n",
       "      <td>0</td>\n",
       "      <td>0</td>\n",
       "      <td>1</td>\n",
       "      <td>5</td>\n",
       "      <td>0</td>\n",
       "      <td>0</td>\n",
       "      <td>0</td>\n",
       "      <td>0</td>\n",
       "      <td>2</td>\n",
       "      <td>1</td>\n",
       "      <td>9</td>\n",
       "      <td>5</td>\n",
       "    </tr>\n",
       "    <tr>\n",
       "      <th>54705</th>\n",
       "      <td>0</td>\n",
       "      <td>0</td>\n",
       "      <td>1</td>\n",
       "      <td>1</td>\n",
       "      <td>0</td>\n",
       "      <td>0</td>\n",
       "      <td>0</td>\n",
       "      <td>0</td>\n",
       "      <td>2</td>\n",
       "      <td>1</td>\n",
       "      <td>9</td>\n",
       "      <td>5</td>\n",
       "    </tr>\n",
       "  </tbody>\n",
       "</table>\n",
       "<p>54706 rows × 12 columns</p>\n",
       "</div>"
      ],
      "text/plain": [
       "       cancer  site_id  laterality  view  implant  biopsy  invasive  BIRADS  \\\n",
       "0           0        1           0     1        0       0         0       3   \n",
       "1           0        1           0     5        0       0         0       3   \n",
       "2           0        1           1     5        0       0         0       3   \n",
       "3           0        1           1     1        0       0         0       3   \n",
       "4           0        1           0     1        0       0         0       0   \n",
       "...       ...      ...         ...   ...      ...     ...       ...     ...   \n",
       "54701       0        0           1     5        0       0         0       1   \n",
       "54702       0        0           0     5        0       0         0       3   \n",
       "54703       0        0           0     1        0       0         0       3   \n",
       "54704       0        0           1     5        0       0         0       0   \n",
       "54705       0        0           1     1        0       0         0       0   \n",
       "\n",
       "       density  difficult_negative_case  machine_id  age  \n",
       "0            4                        0           1    5  \n",
       "1            4                        0           1    5  \n",
       "2            4                        0           1    5  \n",
       "3            4                        0           1    5  \n",
       "4            4                        1           0    3  \n",
       "...        ...                      ...         ...  ...  \n",
       "54701        2                        0           3    0  \n",
       "54702        2                        0           9    5  \n",
       "54703        2                        0           9    5  \n",
       "54704        2                        1           9    5  \n",
       "54705        2                        1           9    5  \n",
       "\n",
       "[54706 rows x 12 columns]"
      ]
     },
     "execution_count": 9,
     "metadata": {},
     "output_type": "execute_result"
    }
   ],
   "source": [
    "df_train[CATEGORY_AUX_TARGETS] = df_train[CATEGORY_AUX_TARGETS].apply(LabelEncoder().fit_transform)\n",
    "df_train[ALL_FEAT]"
   ]
  },
  {
   "cell_type": "code",
   "execution_count": 10,
   "metadata": {},
   "outputs": [],
   "source": [
    "import torchvision\n",
    "\n",
    "def get_transforms(aug=False):\n",
    "    \"\"\"\n",
    "    # old transforms\n",
    "    create_transform(\n",
    "        (1024, 512), \n",
    "        mean=0.53, #(0.53, 0.53, 0.53),\n",
    "        std=0.23, #(0.23, 0.23, 0.23),\n",
    "        is_training=is_training, \n",
    "        auto_augment=f'rand-m{config.AUTO_AUG_M}-n{config.AUTO_AUG_N}'\n",
    "    )\n",
    "    \"\"\"\n",
    "    def transforms(img):\n",
    "        img = img.convert('RGB')#.resize((512, 512))\n",
    "        if aug:\n",
    "            tfm = [\n",
    "                torchvision.transforms.RandomHorizontalFlip(0.5),\n",
    "                torchvision.transforms.RandomRotation(degrees=(-5, 5)), \n",
    "                torchvision.transforms.RandomResizedCrop((1024, 512), scale=(0.8, 1), ratio=(0.45, 0.55)) \n",
    "            ]\n",
    "        else:\n",
    "            tfm = [\n",
    "                torchvision.transforms.RandomHorizontalFlip(0.5),\n",
    "                torchvision.transforms.Resize((1024, 512))\n",
    "            ]\n",
    "        img = torchvision.transforms.Compose(tfm + [            \n",
    "            torchvision.transforms.ToTensor(),\n",
    "            torchvision.transforms.Normalize(mean=0.2179, std=0.0529),\n",
    "            \n",
    "        ])(img)\n",
    "        return img\n",
    "\n",
    "    return lambda img: transforms(img)\n",
    "\n",
    "if DEBUG:\n",
    "    tfm = get_transforms(aug=True)\n",
    "    img = Image.open(f\"{TRAIN_IMAGES_PATH}/10006/1459541791.png\")\n",
    "    print(img.size)\n",
    "    plt.imshow(np.array(img), cmap='gray')\n",
    "    plt.show()\n",
    "\n",
    "    plt.figure(figsize=(20, 20))\n",
    "    for i in range(8):\n",
    "        v = tfm(img).permute(1, 2, 0)\n",
    "        v -= v.min()\n",
    "        v /= v.max()\n",
    "        # plt.imshow(v)\n",
    "        # break\n",
    "        plt.subplot(2, 4, i + 1).imshow(v)\n",
    "    plt.tight_layout()"
   ]
  },
  {
   "cell_type": "code",
   "execution_count": 11,
   "metadata": {},
   "outputs": [],
   "source": [
    "class BreastCancerDataSet(torch.utils.data.Dataset):\n",
    "    def __init__(self, df, path, transforms=None):\n",
    "        super().__init__()\n",
    "        self.df = df\n",
    "        self.path = path\n",
    "        self.transforms = transforms\n",
    "\n",
    "    def __getitem__(self, i):\n",
    "\n",
    "        path = f'{self.path}/{self.df.iloc[i].patient_id}/{self.df.iloc[i].image_id}.png'\n",
    "        try:\n",
    "            img = Image.open(path).convert('RGB')\n",
    "        except Exception as ex:\n",
    "            print(path, ex)\n",
    "            return None\n",
    "\n",
    "        if self.transforms is not None:\n",
    "            img = self.transforms(img)\n",
    "\n",
    "\n",
    "        if TARGET in self.df.columns:\n",
    "            cancer_target = torch.as_tensor(self.df.iloc[i].cancer)\n",
    "            cat_aux_targets = torch.as_tensor(self.df.iloc[i][CATEGORY_AUX_TARGETS])\n",
    "            return img, cancer_target, cat_aux_targets\n",
    "\n",
    "        return img\n",
    "\n",
    "    def __len__(self):\n",
    "        return len(self.df)"
   ]
  },
  {
   "cell_type": "code",
   "execution_count": 12,
   "metadata": {},
   "outputs": [],
   "source": [
    "ds_train = BreastCancerDataSet(df_train, TRAIN_IMAGES_PATH, get_transforms(aug=True))\n",
    "if DEBUG:\n",
    "    X, y_cancer, y_aux = ds_train[42]\n",
    "    print(X.shape, y_cancer.shape, y_aux.shape)"
   ]
  },
  {
   "cell_type": "code",
   "execution_count": 13,
   "metadata": {},
   "outputs": [],
   "source": [
    "class BreastCancerModel(torch.nn.Module):\n",
    "    def __init__(self, aux_classes, model_type=Config.MODEL_TYPE, dropout=0.):\n",
    "        super().__init__()\n",
    "        self.model = create_model(model_type, pretrained=True, num_classes=0, drop_rate=dropout)\n",
    "\n",
    "        self.backbone_dim = self.model(torch.randn(1, 3, 512, 512)).shape[-1]\n",
    "\n",
    "        self.nn_cancer = torch.nn.Sequential(\n",
    "            torch.nn.Linear(self.backbone_dim, 1),\n",
    "        )\n",
    "        self.nn_aux = torch.nn.ModuleList([\n",
    "            torch.nn.Linear(self.backbone_dim, n) for n in aux_classes\n",
    "        ])\n",
    "\n",
    "    def forward(self, x):\n",
    "        # returns logits\n",
    "        x = self.model(x)\n",
    "\n",
    "        cancer = self.nn_cancer(x).squeeze()\n",
    "        aux = []\n",
    "        for nn in self.nn_aux:\n",
    "            aux.append(nn(x).squeeze())\n",
    "        return cancer, aux\n",
    "\n",
    "    def predict(self, x):\n",
    "        cancer, aux = self.forward(x)\n",
    "        sigaux = []\n",
    "        for a in aux:\n",
    "            sigaux.append(torch.softmax(a, dim=-1))\n",
    "        return torch.sigmoid(cancer), sigaux\n",
    "\n",
    "AUX_TARGET_NCLASSES = df_train[CATEGORY_AUX_TARGETS].max() + 1\n",
    "\n",
    "if DEBUG:\n",
    "    with torch.no_grad():\n",
    "        model = BreastCancerModel(AUX_TARGET_NCLASSES, model_type='seresnext50_32x4d')\n",
    "        pred, aux = model.predict(torch.randn(2, 3, 512, 512))\n",
    "        print('seresnext', pred.shape, len(aux))\n",
    "\n",
    "        model = BreastCancerModel(AUX_TARGET_NCLASSES, model_type='efficientnet_b4')\n",
    "        pred, aux = model.predict(torch.randn(2, 3, 512, 512))\n",
    "        print('efficientnet_b4', pred.shape, len(aux))\n",
    "\n",
    "    del model"
   ]
  },
  {
   "cell_type": "code",
   "execution_count": 14,
   "metadata": {},
   "outputs": [],
   "source": [
    "def save_model(name, model, thres, model_type):\n",
    "    torch.save({'model': model.state_dict(), 'threshold': thres, 'model_type': model_type}, f'{name}')\n",
    "    \n",
    "def load_model(name, dir='.', model=None):\n",
    "    data = torch.load(os.path.join(dir, f'{name}'), map_location=DEVICE)\n",
    "    if model is None:\n",
    "        model = BreastCancerModel(AUX_TARGET_NCLASSES, data['model_type'])\n",
    "    model.load_state_dict(data['model'])\n",
    "    return model, data['threshold'], data['model_type']\n",
    "\n",
    "\n",
    "if DEBUG:\n",
    "    # quick test\n",
    "    model = torch.nn.Linear(2, 1)\n",
    "    save_model('testmodel', model, thres=0.123, model_type='abc')\n",
    "\n",
    "    model1, thres, model_type = load_model('testmodel', model=torch.nn.Linear(2, 1))\n",
    "    assert torch.all(\n",
    "        next(iter(model1.parameters())) == next(iter(model.parameters()))\n",
    "    ).item(), \"Loading/saving is inconsistent!\"\n",
    "    print(thres, model_type)"
   ]
  },
  {
   "cell_type": "code",
   "execution_count": 15,
   "metadata": {},
   "outputs": [],
   "source": [
    "def pfbeta(labels, predictions, beta=1.):\n",
    "    y_true_count = 0\n",
    "    ctp = 0\n",
    "    cfp = 0\n",
    "\n",
    "    for idx in range(len(labels)):\n",
    "        prediction = min(max(predictions[idx], 0), 1)\n",
    "        if (labels[idx]):\n",
    "            y_true_count += 1\n",
    "            ctp += prediction\n",
    "        else:\n",
    "            cfp += prediction\n",
    "\n",
    "    beta_squared = beta * beta\n",
    "    c_precision = ctp / (ctp + cfp)\n",
    "    c_recall = ctp / max(y_true_count, 1)  # avoid / 0\n",
    "    if (c_precision > 0 and c_recall > 0):\n",
    "        result = (1 + beta_squared) * (c_precision * c_recall) / (beta_squared * c_precision + c_recall)\n",
    "        return result\n",
    "    else:\n",
    "        return 0\n",
    "\n",
    "def optimal_f1(labels, predictions):\n",
    "    thres = np.linspace(0, 1, 101)\n",
    "    f1s = [pfbeta(labels, predictions > thr) for thr in thres]\n",
    "    idx = np.argmax(f1s)\n",
    "    return f1s[idx], thres[idx]\n",
    "\n",
    "def evaluate_model(model: BreastCancerModel, ds, max_batches=PREDICT_MAX_BATCHES, shuffle=False, config=Config):\n",
    "    torch.manual_seed(42)\n",
    "    model = model.to(DEVICE)\n",
    "    dl_test = torch.utils.data.DataLoader(ds, batch_size=config.BATCH_SIZE, shuffle=shuffle, num_workers=NUM_WORKERS, pin_memory=False)\n",
    "    pred_cancer = []\n",
    "    with torch.no_grad():\n",
    "        \n",
    "        model.eval()\n",
    "        cancer_losses = []\n",
    "        aux_losses = []\n",
    "        losses = []\n",
    "        targets = []\n",
    "        with tqdm(dl_test, desc='Eval', mininterval=30) as progress:\n",
    "            for i, (X, y_cancer, y_aux) in enumerate(progress):\n",
    "                with autocast(enabled=True):\n",
    "                    y_aux = y_aux.to(DEVICE)\n",
    "                    X = X.to(DEVICE)\n",
    "                    y_cancer_pred, aux_pred = model.forward(X)\n",
    "                    if config.TTA:\n",
    "                        y_cancer_pred2, aux_pred2 = model.forward(torch.flip(X, dims=[-1])) # horizontal mirror\n",
    "                        y_cancer_pred = (y_cancer_pred + y_cancer_pred2) / 2\n",
    "                        aux_pred = [(v1 + v2) / 2 for v1, v2 in zip(aux_pred, aux_pred2)]\n",
    "\n",
    "                    cancer_loss = torch.nn.functional.binary_cross_entropy_with_logits(\n",
    "                        y_cancer_pred, \n",
    "                        y_cancer.to(float).to(DEVICE),\n",
    "                        pos_weight=torch.tensor([config.POSITIVE_TARGET_WEIGHT]).to(DEVICE)\n",
    "                    ).item()\n",
    "                    aux_loss = torch.mean(torch.stack([torch.nn.functional.cross_entropy(aux_pred[i], y_aux[:, i]) for i in range(y_aux.shape[-1])])).item()\n",
    "                    pred_cancer.append(torch.sigmoid(y_cancer_pred))\n",
    "                    cancer_losses.append(cancer_loss)\n",
    "                    aux_losses.append(aux_loss)\n",
    "                    losses.append(cancer_loss + config.AUX_LOSS_WEIGHT * aux_loss)\n",
    "                    targets.append(y_cancer.cpu().numpy())\n",
    "                if i >= max_batches:\n",
    "                    break\n",
    "        targets = np.concatenate(targets)\n",
    "        pred = torch.concat(pred_cancer).cpu().numpy()\n",
    "        pf1, thres = optimal_f1(targets, pred)\n",
    "        return np.mean(cancer_losses), (pf1, thres), pred, np.mean(losses), np.mean(aux_losses)\n",
    "\n",
    "\n",
    "# quick test\n",
    "if DEBUG:\n",
    "\n",
    "    m = BreastCancerModel(AUX_TARGET_NCLASSES)\n",
    "    closs, f1, pred, loss, aloss = evaluate_model(m, ds_train, max_batches=2)\n",
    "    del m\n",
    "    closs, f1, pred.shape, loss, aloss"
   ]
  },
  {
   "cell_type": "code",
   "execution_count": 16,
   "metadata": {},
   "outputs": [
    {
     "name": "stderr",
     "output_type": "stream",
     "text": [
      "Failed to detect the name of this notebook, you can set it manually with the WANDB_NOTEBOOK_NAME environment variable to enable code saving.\n",
      "\u001b[34m\u001b[1mwandb\u001b[0m: Currently logged in as: \u001b[33mxiaosuhu86\u001b[0m. Use \u001b[1m`wandb login --relogin`\u001b[0m to force relogin\n"
     ]
    },
    {
     "data": {
      "text/html": [
       "wandb version 0.13.10 is available!  To upgrade, please run:\n",
       " $ pip install wandb --upgrade"
      ],
      "text/plain": [
       "<IPython.core.display.HTML object>"
      ]
     },
     "metadata": {},
     "output_type": "display_data"
    },
    {
     "data": {
      "text/html": [
       "Tracking run with wandb version 0.13.9"
      ],
      "text/plain": [
       "<IPython.core.display.HTML object>"
      ]
     },
     "metadata": {},
     "output_type": "display_data"
    },
    {
     "data": {
      "text/html": [
       "Run data is saved locally in <code>/home/frank/Documents/RSNA_MAMMO_1024x512/wandb/run-20230212_104958-v27mm7aw</code>"
      ],
      "text/plain": [
       "<IPython.core.display.HTML object>"
      ]
     },
     "metadata": {},
     "output_type": "display_data"
    },
    {
     "data": {
      "text/html": [
       "Syncing run <strong><a href=\"https://wandb.ai/xiaosuhu86/RSNA-breast-cancer-v4/runs/v27mm7aw\" target=\"_blank\">seresnext50_32x4d_lr0.0004_ep3_bs8_pw20_aux94_adam_aug_drop0.0-f0</a></strong> to <a href=\"https://wandb.ai/xiaosuhu86/RSNA-breast-cancer-v4\" target=\"_blank\">Weights & Biases</a> (<a href=\"https://wandb.me/run\" target=\"_blank\">docs</a>)<br/>"
      ],
      "text/plain": [
       "<IPython.core.display.HTML object>"
      ]
     },
     "metadata": {},
     "output_type": "display_data"
    },
    {
     "data": {
      "text/html": [
       " View project at <a href=\"https://wandb.ai/xiaosuhu86/RSNA-breast-cancer-v4\" target=\"_blank\">https://wandb.ai/xiaosuhu86/RSNA-breast-cancer-v4</a>"
      ],
      "text/plain": [
       "<IPython.core.display.HTML object>"
      ]
     },
     "metadata": {},
     "output_type": "display_data"
    },
    {
     "data": {
      "text/html": [
       " View run at <a href=\"https://wandb.ai/xiaosuhu86/RSNA-breast-cancer-v4/runs/v27mm7aw\" target=\"_blank\">https://wandb.ai/xiaosuhu86/RSNA-breast-cancer-v4/runs/v27mm7aw</a>"
      ],
      "text/plain": [
       "<IPython.core.display.HTML object>"
      ]
     },
     "metadata": {},
     "output_type": "display_data"
    },
    {
     "name": "stderr",
     "output_type": "stream",
     "text": [
      "Epoch:   0%|          | 0/3 [00:00<?, ?it/s]/home/frank/.local/lib/python3.10/site-packages/torch/optim/lr_scheduler.py:138: UserWarning: Detected call of `lr_scheduler.step()` before `optimizer.step()`. In PyTorch 1.1.0 and later, you should call them in the opposite order: `optimizer.step()` before `lr_scheduler.step()`.  Failure to do this will result in PyTorch skipping the first value of the learning rate schedule. See more details at https://pytorch.org/docs/stable/optim.html#how-to-adjust-learning-rate\n",
      "  warnings.warn(\"Detected call of `lr_scheduler.step()` before `optimizer.step()`. \"\n",
      "Train: 100%|██████████| 5472/5472 [18:26<00:00,  4.95it/s]\n",
      "Eval:  29%|██▉       | 400/1367 [00:28<01:08, 14.06it/s]\n",
      "/tmp/ipykernel_2439/1030292389.py:15: RuntimeWarning: invalid value encountered in scalar divide\n",
      "  c_precision = ctp / (ctp + cfp)\n",
      "Train: 100%|██████████| 5472/5472 [18:26<00:00,  4.94it/s]\n",
      "Eval:  29%|██▉       | 400/1367 [00:28<01:08, 14.10it/s]\n",
      "Train: 100%|██████████| 5472/5472 [18:27<00:00,  4.94it/s]\n",
      "Eval:  29%|██▉       | 400/1367 [00:28<01:08, 14.12it/s]\n",
      "Epoch: 100%|██████████| 3/3 [56:50<00:00, 1136.86s/it]\n"
     ]
    },
    {
     "data": {
      "text/html": [
       "Waiting for W&B process to finish... <strong style=\"color:green\">(success).</strong>"
      ],
      "text/plain": [
       "<IPython.core.display.HTML object>"
      ]
     },
     "metadata": {},
     "output_type": "display_data"
    },
    {
     "data": {
      "text/html": [
       "<style>\n",
       "    table.wandb td:nth-child(1) { padding: 0 10px; text-align: left ; width: auto;} td:nth-child(2) {text-align: left ; width: 100%}\n",
       "    .wandb-row { display: flex; flex-direction: row; flex-wrap: wrap; justify-content: flex-start; width: 100% }\n",
       "    .wandb-col { display: flex; flex-direction: column; flex-basis: 100%; flex: 1; padding: 10px; }\n",
       "    </style>\n",
       "<div class=\"wandb-row\"><div class=\"wandb-col\"><h3>Run history:</h3><br/><table class=\"wandb\"><tr><td>aux_loss</td><td>▇█▅▄█▄▅▃▅▂▆▂▄▃▇▂▃▄▂▃▃▃▄▂▃▃▃▃▄▂▃▂▂▃▃▁▂▂▂▂</td></tr><tr><td>cancer_loss</td><td>▁▇▁▂▂▆▁▁▂▂▂▁▂▁▂▁▁▂▁▁▂▂▁▂▁█▂▁▃▁▁▁▁▁▁▁▁▁▁▁</td></tr><tr><td>epoch</td><td>▁▁▁▁▁▁▁▁▁▁▁▁▁▅▅▅▅▅▅▅▅▅▅▅▅▅██████████████</td></tr><tr><td>eval_aux_loss</td><td>█▁▂</td></tr><tr><td>eval_cancer_loss</td><td>█▁▇</td></tr><tr><td>eval_f1</td><td>▁▆█</td></tr><tr><td>eval_f1_thres</td><td>▁█▅</td></tr><tr><td>eval_loss</td><td>█▁▂</td></tr><tr><td>loss</td><td>▆█▄▃█▄▅▃▅▂▆▂▄▃▇▂▃▄▂▃▃▃▄▂▃▄▃▃▄▂▃▂▂▃▃▁▂▂▂▂</td></tr><tr><td>lr</td><td>▂▃▆▇██████▇▇▇▇▇▆▆▆▅▅▅▅▄▄▄▃▃▃▃▂▂▂▂▂▁▁▁▁▁▁</td></tr><tr><td>max_eval_f1</td><td>▁▆█</td></tr></table><br/></div><div class=\"wandb-col\"><h3>Run summary:</h3><br/><table class=\"wandb\"><tr><td>aux_loss</td><td>0.52102</td></tr><tr><td>cancer_loss</td><td>0.22581</td></tr><tr><td>epoch</td><td>2</td></tr><tr><td>eval_aux_loss</td><td>0.43586</td></tr><tr><td>eval_cancer_loss</td><td>0.77929</td></tr><tr><td>eval_f1</td><td>0.22222</td></tr><tr><td>eval_f1_thres</td><td>0.81</td></tr><tr><td>eval_loss</td><td>41.75035</td></tr><tr><td>loss</td><td>49.20167</td></tr><tr><td>lr</td><td>0.0</td></tr><tr><td>max_eval_f1</td><td>0.22222</td></tr></table><br/></div></div>"
      ],
      "text/plain": [
       "<IPython.core.display.HTML object>"
      ]
     },
     "metadata": {},
     "output_type": "display_data"
    },
    {
     "data": {
      "text/html": [
       " View run <strong style=\"color:#cdcd00\">seresnext50_32x4d_lr0.0004_ep3_bs8_pw20_aux94_adam_aug_drop0.0-f0</strong> at: <a href=\"https://wandb.ai/xiaosuhu86/RSNA-breast-cancer-v4/runs/v27mm7aw\" target=\"_blank\">https://wandb.ai/xiaosuhu86/RSNA-breast-cancer-v4/runs/v27mm7aw</a><br/>Synced 5 W&B file(s), 0 media file(s), 3 artifact file(s) and 0 other file(s)"
      ],
      "text/plain": [
       "<IPython.core.display.HTML object>"
      ]
     },
     "metadata": {},
     "output_type": "display_data"
    },
    {
     "data": {
      "text/html": [
       "Find logs at: <code>./wandb/run-20230212_104958-v27mm7aw/logs</code>"
      ],
      "text/plain": [
       "<IPython.core.display.HTML object>"
      ]
     },
     "metadata": {},
     "output_type": "display_data"
    },
    {
     "data": {
      "application/vnd.jupyter.widget-view+json": {
       "model_id": "a8de718e465e46e7a75b20e90dcec31e",
       "version_major": 2,
       "version_minor": 0
      },
      "text/plain": [
       "VBox(children=(Label(value='Waiting for wandb.init()...\\r'), FloatProgress(value=0.016668116866662787, max=1.0…"
      ]
     },
     "metadata": {},
     "output_type": "display_data"
    },
    {
     "data": {
      "text/html": [
       "wandb version 0.13.10 is available!  To upgrade, please run:\n",
       " $ pip install wandb --upgrade"
      ],
      "text/plain": [
       "<IPython.core.display.HTML object>"
      ]
     },
     "metadata": {},
     "output_type": "display_data"
    },
    {
     "data": {
      "text/html": [
       "Tracking run with wandb version 0.13.9"
      ],
      "text/plain": [
       "<IPython.core.display.HTML object>"
      ]
     },
     "metadata": {},
     "output_type": "display_data"
    },
    {
     "data": {
      "text/html": [
       "Run data is saved locally in <code>/home/frank/Documents/RSNA_MAMMO_1024x512/wandb/run-20230212_114821-t0rm6m28</code>"
      ],
      "text/plain": [
       "<IPython.core.display.HTML object>"
      ]
     },
     "metadata": {},
     "output_type": "display_data"
    },
    {
     "data": {
      "text/html": [
       "Syncing run <strong><a href=\"https://wandb.ai/xiaosuhu86/RSNA-breast-cancer-v4/runs/t0rm6m28\" target=\"_blank\">seresnext50_32x4d_lr0.0004_ep3_bs8_pw20_aux94_adam_aug_drop0.0-f1</a></strong> to <a href=\"https://wandb.ai/xiaosuhu86/RSNA-breast-cancer-v4\" target=\"_blank\">Weights & Biases</a> (<a href=\"https://wandb.me/run\" target=\"_blank\">docs</a>)<br/>"
      ],
      "text/plain": [
       "<IPython.core.display.HTML object>"
      ]
     },
     "metadata": {},
     "output_type": "display_data"
    },
    {
     "data": {
      "text/html": [
       " View project at <a href=\"https://wandb.ai/xiaosuhu86/RSNA-breast-cancer-v4\" target=\"_blank\">https://wandb.ai/xiaosuhu86/RSNA-breast-cancer-v4</a>"
      ],
      "text/plain": [
       "<IPython.core.display.HTML object>"
      ]
     },
     "metadata": {},
     "output_type": "display_data"
    },
    {
     "data": {
      "text/html": [
       " View run at <a href=\"https://wandb.ai/xiaosuhu86/RSNA-breast-cancer-v4/runs/t0rm6m28\" target=\"_blank\">https://wandb.ai/xiaosuhu86/RSNA-breast-cancer-v4/runs/t0rm6m28</a>"
      ],
      "text/plain": [
       "<IPython.core.display.HTML object>"
      ]
     },
     "metadata": {},
     "output_type": "display_data"
    },
    {
     "name": "stderr",
     "output_type": "stream",
     "text": [
      "Train: 100%|██████████| 5470/5470 [18:26<00:00,  4.94it/s]\n",
      "Eval:  29%|██▉       | 400/1369 [00:28<01:08, 14.20it/s]\n",
      "Train: 100%|██████████| 5470/5470 [18:27<00:00,  4.94it/s]\n",
      "Eval:  29%|██▉       | 400/1369 [00:27<01:07, 14.39it/s]\n",
      "Train: 100%|██████████| 5470/5470 [18:29<00:00,  4.93it/s]\n",
      "Eval:  29%|██▉       | 400/1369 [00:27<01:07, 14.33it/s]\n",
      "Epoch: 100%|██████████| 3/3 [56:51<00:00, 1137.08s/it]\n"
     ]
    },
    {
     "data": {
      "text/html": [
       "Waiting for W&B process to finish... <strong style=\"color:green\">(success).</strong>"
      ],
      "text/plain": [
       "<IPython.core.display.HTML object>"
      ]
     },
     "metadata": {},
     "output_type": "display_data"
    },
    {
     "data": {
      "text/html": [
       "<style>\n",
       "    table.wandb td:nth-child(1) { padding: 0 10px; text-align: left ; width: auto;} td:nth-child(2) {text-align: left ; width: 100%}\n",
       "    .wandb-row { display: flex; flex-direction: row; flex-wrap: wrap; justify-content: flex-start; width: 100% }\n",
       "    .wandb-col { display: flex; flex-direction: column; flex-basis: 100%; flex: 1; padding: 10px; }\n",
       "    </style>\n",
       "<div class=\"wandb-row\"><div class=\"wandb-col\"><h3>Run history:</h3><br/><table class=\"wandb\"><tr><td>aux_loss</td><td>█▇▄▆▅▄▄▆▆▄▄▅▄▅▆▄▁▃▃▇▄▄▃▄▃▅▅▁▃▃▃▂▃▂▂▃▃▂▁▂</td></tr><tr><td>cancer_loss</td><td>▆▁▁▁▁▁▂▂▅▂▂▁▁▁█▁▁▂▂▁▆▁▁▂▁▂▄▁▁▁▁▁▂▁▂▁▁▁▁▂</td></tr><tr><td>epoch</td><td>▁▁▁▁▁▁▁▁▁▁▁▁▁▅▅▅▅▅▅▅▅▅▅▅▅▅██████████████</td></tr><tr><td>eval_aux_loss</td><td>█▁▁</td></tr><tr><td>eval_cancer_loss</td><td>█▄▁</td></tr><tr><td>eval_f1</td><td>▁▆█</td></tr><tr><td>eval_f1_thres</td><td>▁█▅</td></tr><tr><td>eval_loss</td><td>█▁▁</td></tr><tr><td>loss</td><td>█▆▄▆▅▄▄▆▆▄▄▅▃▅▇▄▁▃▃▆▄▄▂▄▃▄▅▁▃▃▃▂▃▂▂▃▃▂▁▂</td></tr><tr><td>lr</td><td>▂▃▆▇██████▇▇▇▇▇▆▆▆▅▅▅▅▄▄▄▃▃▃▃▂▂▂▂▂▁▁▁▁▁▁</td></tr><tr><td>max_eval_f1</td><td>▁▆█</td></tr></table><br/></div><div class=\"wandb-col\"><h3>Run summary:</h3><br/><table class=\"wandb\"><tr><td>aux_loss</td><td>0.29915</td></tr><tr><td>cancer_loss</td><td>0.15567</td></tr><tr><td>epoch</td><td>2</td></tr><tr><td>eval_aux_loss</td><td>0.42874</td></tr><tr><td>eval_cancer_loss</td><td>0.57914</td></tr><tr><td>eval_f1</td><td>0.27586</td></tr><tr><td>eval_f1_thres</td><td>0.62</td></tr><tr><td>eval_loss</td><td>40.88101</td></tr><tr><td>loss</td><td>28.27577</td></tr><tr><td>lr</td><td>0.0</td></tr><tr><td>max_eval_f1</td><td>0.27586</td></tr></table><br/></div></div>"
      ],
      "text/plain": [
       "<IPython.core.display.HTML object>"
      ]
     },
     "metadata": {},
     "output_type": "display_data"
    },
    {
     "data": {
      "text/html": [
       " View run <strong style=\"color:#cdcd00\">seresnext50_32x4d_lr0.0004_ep3_bs8_pw20_aux94_adam_aug_drop0.0-f1</strong> at: <a href=\"https://wandb.ai/xiaosuhu86/RSNA-breast-cancer-v4/runs/t0rm6m28\" target=\"_blank\">https://wandb.ai/xiaosuhu86/RSNA-breast-cancer-v4/runs/t0rm6m28</a><br/>Synced 5 W&B file(s), 0 media file(s), 3 artifact file(s) and 0 other file(s)"
      ],
      "text/plain": [
       "<IPython.core.display.HTML object>"
      ]
     },
     "metadata": {},
     "output_type": "display_data"
    },
    {
     "data": {
      "text/html": [
       "Find logs at: <code>./wandb/run-20230212_114821-t0rm6m28/logs</code>"
      ],
      "text/plain": [
       "<IPython.core.display.HTML object>"
      ]
     },
     "metadata": {},
     "output_type": "display_data"
    },
    {
     "data": {
      "application/vnd.jupyter.widget-view+json": {
       "model_id": "38a7fa3e678d40c4bac91be5fc9a5ddb",
       "version_major": 2,
       "version_minor": 0
      },
      "text/plain": [
       "VBox(children=(Label(value='Waiting for wandb.init()...\\r'), FloatProgress(value=0.01666764776667454, max=1.0)…"
      ]
     },
     "metadata": {},
     "output_type": "display_data"
    },
    {
     "data": {
      "text/html": [
       "wandb version 0.13.10 is available!  To upgrade, please run:\n",
       " $ pip install wandb --upgrade"
      ],
      "text/plain": [
       "<IPython.core.display.HTML object>"
      ]
     },
     "metadata": {},
     "output_type": "display_data"
    },
    {
     "data": {
      "text/html": [
       "Tracking run with wandb version 0.13.9"
      ],
      "text/plain": [
       "<IPython.core.display.HTML object>"
      ]
     },
     "metadata": {},
     "output_type": "display_data"
    },
    {
     "data": {
      "text/html": [
       "Run data is saved locally in <code>/home/frank/Documents/RSNA_MAMMO_1024x512/wandb/run-20230212_124644-boyhab9x</code>"
      ],
      "text/plain": [
       "<IPython.core.display.HTML object>"
      ]
     },
     "metadata": {},
     "output_type": "display_data"
    },
    {
     "data": {
      "text/html": [
       "Syncing run <strong><a href=\"https://wandb.ai/xiaosuhu86/RSNA-breast-cancer-v4/runs/boyhab9x\" target=\"_blank\">seresnext50_32x4d_lr0.0004_ep3_bs8_pw20_aux94_adam_aug_drop0.0-f2</a></strong> to <a href=\"https://wandb.ai/xiaosuhu86/RSNA-breast-cancer-v4\" target=\"_blank\">Weights & Biases</a> (<a href=\"https://wandb.me/run\" target=\"_blank\">docs</a>)<br/>"
      ],
      "text/plain": [
       "<IPython.core.display.HTML object>"
      ]
     },
     "metadata": {},
     "output_type": "display_data"
    },
    {
     "data": {
      "text/html": [
       " View project at <a href=\"https://wandb.ai/xiaosuhu86/RSNA-breast-cancer-v4\" target=\"_blank\">https://wandb.ai/xiaosuhu86/RSNA-breast-cancer-v4</a>"
      ],
      "text/plain": [
       "<IPython.core.display.HTML object>"
      ]
     },
     "metadata": {},
     "output_type": "display_data"
    },
    {
     "data": {
      "text/html": [
       " View run at <a href=\"https://wandb.ai/xiaosuhu86/RSNA-breast-cancer-v4/runs/boyhab9x\" target=\"_blank\">https://wandb.ai/xiaosuhu86/RSNA-breast-cancer-v4/runs/boyhab9x</a>"
      ],
      "text/plain": [
       "<IPython.core.display.HTML object>"
      ]
     },
     "metadata": {},
     "output_type": "display_data"
    },
    {
     "name": "stderr",
     "output_type": "stream",
     "text": [
      "Train: 100%|██████████| 5471/5471 [18:24<00:00,  4.95it/s]\n",
      "Eval:  29%|██▉       | 400/1368 [00:27<01:07, 14.32it/s]\n",
      "Train: 100%|██████████| 5471/5471 [18:28<00:00,  4.93it/s]\n",
      "Eval:  29%|██▉       | 400/1368 [00:27<01:07, 14.32it/s]\n",
      "Train: 100%|██████████| 5471/5471 [18:27<00:00,  4.94it/s]\n",
      "Eval:  29%|██▉       | 400/1368 [00:28<01:07, 14.26it/s]\n",
      "Epoch: 100%|██████████| 3/3 [56:48<00:00, 1136.30s/it]\n"
     ]
    },
    {
     "data": {
      "text/html": [
       "Waiting for W&B process to finish... <strong style=\"color:green\">(success).</strong>"
      ],
      "text/plain": [
       "<IPython.core.display.HTML object>"
      ]
     },
     "metadata": {},
     "output_type": "display_data"
    },
    {
     "data": {
      "text/html": [
       "<style>\n",
       "    table.wandb td:nth-child(1) { padding: 0 10px; text-align: left ; width: auto;} td:nth-child(2) {text-align: left ; width: 100%}\n",
       "    .wandb-row { display: flex; flex-direction: row; flex-wrap: wrap; justify-content: flex-start; width: 100% }\n",
       "    .wandb-col { display: flex; flex-direction: column; flex-basis: 100%; flex: 1; padding: 10px; }\n",
       "    </style>\n",
       "<div class=\"wandb-row\"><div class=\"wandb-col\"><h3>Run history:</h3><br/><table class=\"wandb\"><tr><td>aux_loss</td><td>▆█▅▄▄▅▇▅▄▅▆▆▄▄▅▄▄▃▃▃▄▇▄▃▂▂▁▄▅▃▄▄▂▂▃▃▂▄▂▂</td></tr><tr><td>cancer_loss</td><td>▂▁▂▂▂▂▂█▁▂▁▁▂▂▂▁▂▂▂▂▂▂▄▁▂▂▁▁▁▁▁▁▁▁▁▂▁▁▁▁</td></tr><tr><td>epoch</td><td>▁▁▁▁▁▁▁▁▁▁▁▁▁▅▅▅▅▅▅▅▅▅▅▅▅▅██████████████</td></tr><tr><td>eval_aux_loss</td><td>█▂▁</td></tr><tr><td>eval_cancer_loss</td><td>█▁▄</td></tr><tr><td>eval_f1</td><td>▁▅█</td></tr><tr><td>eval_f1_thres</td><td>▁▁█</td></tr><tr><td>eval_loss</td><td>█▂▁</td></tr><tr><td>loss</td><td>▆█▅▄▄▅▇▅▄▅▆▆▄▄▅▄▄▃▃▃▄▇▄▃▂▂▁▄▅▃▄▃▂▂▃▃▂▄▂▂</td></tr><tr><td>lr</td><td>▂▃▆▇██████▇▇▇▇▇▆▆▆▅▅▅▅▄▄▄▃▃▃▃▂▂▂▂▂▁▁▁▁▁▁</td></tr><tr><td>max_eval_f1</td><td>▁▅█</td></tr></table><br/></div><div class=\"wandb-col\"><h3>Run summary:</h3><br/><table class=\"wandb\"><tr><td>aux_loss</td><td>0.43535</td></tr><tr><td>cancer_loss</td><td>0.26228</td></tr><tr><td>epoch</td><td>2</td></tr><tr><td>eval_aux_loss</td><td>0.41887</td></tr><tr><td>eval_cancer_loss</td><td>0.7349</td></tr><tr><td>eval_f1</td><td>0.22642</td></tr><tr><td>eval_f1_thres</td><td>0.83</td></tr><tr><td>eval_loss</td><td>40.10874</td></tr><tr><td>loss</td><td>41.18531</td></tr><tr><td>lr</td><td>0.0</td></tr><tr><td>max_eval_f1</td><td>0.22642</td></tr></table><br/></div></div>"
      ],
      "text/plain": [
       "<IPython.core.display.HTML object>"
      ]
     },
     "metadata": {},
     "output_type": "display_data"
    },
    {
     "data": {
      "text/html": [
       " View run <strong style=\"color:#cdcd00\">seresnext50_32x4d_lr0.0004_ep3_bs8_pw20_aux94_adam_aug_drop0.0-f2</strong> at: <a href=\"https://wandb.ai/xiaosuhu86/RSNA-breast-cancer-v4/runs/boyhab9x\" target=\"_blank\">https://wandb.ai/xiaosuhu86/RSNA-breast-cancer-v4/runs/boyhab9x</a><br/>Synced 5 W&B file(s), 0 media file(s), 3 artifact file(s) and 0 other file(s)"
      ],
      "text/plain": [
       "<IPython.core.display.HTML object>"
      ]
     },
     "metadata": {},
     "output_type": "display_data"
    },
    {
     "data": {
      "text/html": [
       "Find logs at: <code>./wandb/run-20230212_124644-boyhab9x/logs</code>"
      ],
      "text/plain": [
       "<IPython.core.display.HTML object>"
      ]
     },
     "metadata": {},
     "output_type": "display_data"
    },
    {
     "data": {
      "application/vnd.jupyter.widget-view+json": {
       "model_id": "617bafc1f65440fea1f5dd76353e9d88",
       "version_major": 2,
       "version_minor": 0
      },
      "text/plain": [
       "VBox(children=(Label(value='Waiting for wandb.init()...\\r'), FloatProgress(value=0.016668238016670025, max=1.0…"
      ]
     },
     "metadata": {},
     "output_type": "display_data"
    },
    {
     "data": {
      "text/html": [
       "wandb version 0.13.10 is available!  To upgrade, please run:\n",
       " $ pip install wandb --upgrade"
      ],
      "text/plain": [
       "<IPython.core.display.HTML object>"
      ]
     },
     "metadata": {},
     "output_type": "display_data"
    },
    {
     "data": {
      "text/html": [
       "Tracking run with wandb version 0.13.9"
      ],
      "text/plain": [
       "<IPython.core.display.HTML object>"
      ]
     },
     "metadata": {},
     "output_type": "display_data"
    },
    {
     "data": {
      "text/html": [
       "Run data is saved locally in <code>/home/frank/Documents/RSNA_MAMMO_1024x512/wandb/run-20230212_134504-zjb5dxl1</code>"
      ],
      "text/plain": [
       "<IPython.core.display.HTML object>"
      ]
     },
     "metadata": {},
     "output_type": "display_data"
    },
    {
     "data": {
      "text/html": [
       "Syncing run <strong><a href=\"https://wandb.ai/xiaosuhu86/RSNA-breast-cancer-v4/runs/zjb5dxl1\" target=\"_blank\">seresnext50_32x4d_lr0.0004_ep3_bs8_pw20_aux94_adam_aug_drop0.0-f3</a></strong> to <a href=\"https://wandb.ai/xiaosuhu86/RSNA-breast-cancer-v4\" target=\"_blank\">Weights & Biases</a> (<a href=\"https://wandb.me/run\" target=\"_blank\">docs</a>)<br/>"
      ],
      "text/plain": [
       "<IPython.core.display.HTML object>"
      ]
     },
     "metadata": {},
     "output_type": "display_data"
    },
    {
     "data": {
      "text/html": [
       " View project at <a href=\"https://wandb.ai/xiaosuhu86/RSNA-breast-cancer-v4\" target=\"_blank\">https://wandb.ai/xiaosuhu86/RSNA-breast-cancer-v4</a>"
      ],
      "text/plain": [
       "<IPython.core.display.HTML object>"
      ]
     },
     "metadata": {},
     "output_type": "display_data"
    },
    {
     "data": {
      "text/html": [
       " View run at <a href=\"https://wandb.ai/xiaosuhu86/RSNA-breast-cancer-v4/runs/zjb5dxl1\" target=\"_blank\">https://wandb.ai/xiaosuhu86/RSNA-breast-cancer-v4/runs/zjb5dxl1</a>"
      ],
      "text/plain": [
       "<IPython.core.display.HTML object>"
      ]
     },
     "metadata": {},
     "output_type": "display_data"
    },
    {
     "name": "stderr",
     "output_type": "stream",
     "text": [
      "Train: 100%|██████████| 5471/5471 [18:24<00:00,  4.95it/s]\n",
      "Eval:  29%|██▉       | 400/1368 [00:27<01:07, 14.33it/s]\n",
      "Train: 100%|██████████| 5471/5471 [18:27<00:00,  4.94it/s]\n",
      "Eval:  29%|██▉       | 400/1368 [00:27<01:07, 14.29it/s]\n",
      "Train: 100%|██████████| 5471/5471 [18:33<00:00,  4.91it/s]\n",
      "Eval:  29%|██▉       | 400/1368 [00:27<01:07, 14.34it/s]\n",
      "Epoch: 100%|██████████| 3/3 [56:53<00:00, 1137.84s/it]\n"
     ]
    },
    {
     "data": {
      "text/html": [
       "Waiting for W&B process to finish... <strong style=\"color:green\">(success).</strong>"
      ],
      "text/plain": [
       "<IPython.core.display.HTML object>"
      ]
     },
     "metadata": {},
     "output_type": "display_data"
    },
    {
     "data": {
      "text/html": [
       "<style>\n",
       "    table.wandb td:nth-child(1) { padding: 0 10px; text-align: left ; width: auto;} td:nth-child(2) {text-align: left ; width: 100%}\n",
       "    .wandb-row { display: flex; flex-direction: row; flex-wrap: wrap; justify-content: flex-start; width: 100% }\n",
       "    .wandb-col { display: flex; flex-direction: column; flex-basis: 100%; flex: 1; padding: 10px; }\n",
       "    </style>\n",
       "<div class=\"wandb-row\"><div class=\"wandb-col\"><h3>Run history:</h3><br/><table class=\"wandb\"><tr><td>aux_loss</td><td>█▆█▅▅▅▇█▆▇▃▄▅▅▅▅▅▆▇▄▃▄▃▆▅▅▄▄▄▇▄▃▆▄▃▂▁▂▃▅</td></tr><tr><td>cancer_loss</td><td>▂▁▂▁▁▂▁▁█▆▁▅▁▁▁▁▆▂▂▂▁▁▁▁▁▁▁▁▁▂▁▁▁▁▁▁▁▁▁▁</td></tr><tr><td>epoch</td><td>▁▁▁▁▁▁▁▁▁▁▁▁▁▅▅▅▅▅▅▅▅▅▅▅▅▅██████████████</td></tr><tr><td>eval_aux_loss</td><td>█▃▁</td></tr><tr><td>eval_cancer_loss</td><td>█▃▁</td></tr><tr><td>eval_f1</td><td>▁▅█</td></tr><tr><td>eval_f1_thres</td><td>▁▄█</td></tr><tr><td>eval_loss</td><td>█▃▁</td></tr><tr><td>loss</td><td>█▆█▅▅▅▇█▇▇▃▄▅▅▅▅▆▆▇▄▃▄▃▆▅▅▄▄▄▇▄▃▅▄▃▂▁▂▃▅</td></tr><tr><td>lr</td><td>▂▃▆▇██████▇▇▇▇▇▆▆▆▅▅▅▅▄▄▄▃▃▃▃▂▂▂▂▂▁▁▁▁▁▁</td></tr><tr><td>max_eval_f1</td><td>▁▅█</td></tr></table><br/></div><div class=\"wandb-col\"><h3>Run summary:</h3><br/><table class=\"wandb\"><tr><td>aux_loss</td><td>0.36861</td></tr><tr><td>cancer_loss</td><td>0.36076</td></tr><tr><td>epoch</td><td>2</td></tr><tr><td>eval_aux_loss</td><td>0.43665</td></tr><tr><td>eval_cancer_loss</td><td>0.56837</td></tr><tr><td>eval_f1</td><td>0.39583</td></tr><tr><td>eval_f1_thres</td><td>0.93</td></tr><tr><td>eval_loss</td><td>41.61301</td></tr><tr><td>loss</td><td>35.00983</td></tr><tr><td>lr</td><td>0.0</td></tr><tr><td>max_eval_f1</td><td>0.39583</td></tr></table><br/></div></div>"
      ],
      "text/plain": [
       "<IPython.core.display.HTML object>"
      ]
     },
     "metadata": {},
     "output_type": "display_data"
    },
    {
     "data": {
      "text/html": [
       " View run <strong style=\"color:#cdcd00\">seresnext50_32x4d_lr0.0004_ep3_bs8_pw20_aux94_adam_aug_drop0.0-f3</strong> at: <a href=\"https://wandb.ai/xiaosuhu86/RSNA-breast-cancer-v4/runs/zjb5dxl1\" target=\"_blank\">https://wandb.ai/xiaosuhu86/RSNA-breast-cancer-v4/runs/zjb5dxl1</a><br/>Synced 5 W&B file(s), 0 media file(s), 3 artifact file(s) and 0 other file(s)"
      ],
      "text/plain": [
       "<IPython.core.display.HTML object>"
      ]
     },
     "metadata": {},
     "output_type": "display_data"
    },
    {
     "data": {
      "text/html": [
       "Find logs at: <code>./wandb/run-20230212_134504-zjb5dxl1/logs</code>"
      ],
      "text/plain": [
       "<IPython.core.display.HTML object>"
      ]
     },
     "metadata": {},
     "output_type": "display_data"
    },
    {
     "data": {
      "application/vnd.jupyter.widget-view+json": {
       "model_id": "c1ee1e6812ef40e9b770d902837996b3",
       "version_major": 2,
       "version_minor": 0
      },
      "text/plain": [
       "VBox(children=(Label(value='Waiting for wandb.init()...\\r'), FloatProgress(value=0.01666811026667953, max=1.0)…"
      ]
     },
     "metadata": {},
     "output_type": "display_data"
    },
    {
     "data": {
      "text/html": [
       "wandb version 0.13.10 is available!  To upgrade, please run:\n",
       " $ pip install wandb --upgrade"
      ],
      "text/plain": [
       "<IPython.core.display.HTML object>"
      ]
     },
     "metadata": {},
     "output_type": "display_data"
    },
    {
     "data": {
      "text/html": [
       "Tracking run with wandb version 0.13.9"
      ],
      "text/plain": [
       "<IPython.core.display.HTML object>"
      ]
     },
     "metadata": {},
     "output_type": "display_data"
    },
    {
     "data": {
      "text/html": [
       "Run data is saved locally in <code>/home/frank/Documents/RSNA_MAMMO_1024x512/wandb/run-20230212_144329-3mfejoh3</code>"
      ],
      "text/plain": [
       "<IPython.core.display.HTML object>"
      ]
     },
     "metadata": {},
     "output_type": "display_data"
    },
    {
     "data": {
      "text/html": [
       "Syncing run <strong><a href=\"https://wandb.ai/xiaosuhu86/RSNA-breast-cancer-v4/runs/3mfejoh3\" target=\"_blank\">seresnext50_32x4d_lr0.0004_ep3_bs8_pw20_aux94_adam_aug_drop0.0-f4</a></strong> to <a href=\"https://wandb.ai/xiaosuhu86/RSNA-breast-cancer-v4\" target=\"_blank\">Weights & Biases</a> (<a href=\"https://wandb.me/run\" target=\"_blank\">docs</a>)<br/>"
      ],
      "text/plain": [
       "<IPython.core.display.HTML object>"
      ]
     },
     "metadata": {},
     "output_type": "display_data"
    },
    {
     "data": {
      "text/html": [
       " View project at <a href=\"https://wandb.ai/xiaosuhu86/RSNA-breast-cancer-v4\" target=\"_blank\">https://wandb.ai/xiaosuhu86/RSNA-breast-cancer-v4</a>"
      ],
      "text/plain": [
       "<IPython.core.display.HTML object>"
      ]
     },
     "metadata": {},
     "output_type": "display_data"
    },
    {
     "data": {
      "text/html": [
       " View run at <a href=\"https://wandb.ai/xiaosuhu86/RSNA-breast-cancer-v4/runs/3mfejoh3\" target=\"_blank\">https://wandb.ai/xiaosuhu86/RSNA-breast-cancer-v4/runs/3mfejoh3</a>"
      ],
      "text/plain": [
       "<IPython.core.display.HTML object>"
      ]
     },
     "metadata": {},
     "output_type": "display_data"
    },
    {
     "name": "stderr",
     "output_type": "stream",
     "text": [
      "Train: 100%|██████████| 5471/5471 [18:21<00:00,  4.97it/s]\n",
      "Eval:  29%|██▉       | 400/1368 [00:28<01:08, 14.23it/s]\n",
      "Train: 100%|██████████| 5471/5471 [18:25<00:00,  4.95it/s]\n",
      "Eval:  29%|██▉       | 400/1368 [00:27<01:07, 14.31it/s]\n",
      "Train: 100%|██████████| 5471/5471 [18:24<00:00,  4.95it/s]\n",
      "Eval:  29%|██▉       | 400/1368 [00:27<01:07, 14.41it/s]\n",
      "Epoch: 100%|██████████| 3/3 [56:39<00:00, 1133.02s/it]\n"
     ]
    },
    {
     "data": {
      "text/html": [
       "Waiting for W&B process to finish... <strong style=\"color:green\">(success).</strong>"
      ],
      "text/plain": [
       "<IPython.core.display.HTML object>"
      ]
     },
     "metadata": {},
     "output_type": "display_data"
    },
    {
     "data": {
      "text/html": [
       "<style>\n",
       "    table.wandb td:nth-child(1) { padding: 0 10px; text-align: left ; width: auto;} td:nth-child(2) {text-align: left ; width: 100%}\n",
       "    .wandb-row { display: flex; flex-direction: row; flex-wrap: wrap; justify-content: flex-start; width: 100% }\n",
       "    .wandb-col { display: flex; flex-direction: column; flex-basis: 100%; flex: 1; padding: 10px; }\n",
       "    </style>\n",
       "<div class=\"wandb-row\"><div class=\"wandb-col\"><h3>Run history:</h3><br/><table class=\"wandb\"><tr><td>aux_loss</td><td>█▆▆▅▅▄▄▅▃▂▅▂▄▅▃▃▂▄▃▂▃▃▃▄▄▃▃▂▃▂▂▁▅▂▁▁▃▃▁▂</td></tr><tr><td>cancer_loss</td><td>▁▁▄▁█▁▂▁▁▁▁▁▁▁▁▁▃▁▁▁▁▁▁▁▁▁▃▁▁▁▁▁▅▁▁▁▅▁▁▂</td></tr><tr><td>epoch</td><td>▁▁▁▁▁▁▁▁▁▁▁▁▁▅▅▅▅▅▅▅▅▅▅▅▅▅██████████████</td></tr><tr><td>eval_aux_loss</td><td>█▁▁</td></tr><tr><td>eval_cancer_loss</td><td>█▁▃</td></tr><tr><td>eval_f1</td><td>▁▆█</td></tr><tr><td>eval_f1_thres</td><td>▁▇█</td></tr><tr><td>eval_loss</td><td>█▁▁</td></tr><tr><td>loss</td><td>█▆▆▅▆▄▄▅▃▂▅▂▄▅▃▃▃▄▃▂▃▃▃▄▄▃▃▂▃▂▂▁▆▂▁▁▃▃▁▂</td></tr><tr><td>lr</td><td>▂▃▆▇██████▇▇▇▇▇▆▆▆▅▅▅▅▄▄▄▃▃▃▃▂▂▂▂▂▁▁▁▁▁▁</td></tr><tr><td>max_eval_f1</td><td>▁▆█</td></tr></table><br/></div><div class=\"wandb-col\"><h3>Run summary:</h3><br/><table class=\"wandb\"><tr><td>aux_loss</td><td>0.38722</td></tr><tr><td>cancer_loss</td><td>0.21923</td></tr><tr><td>epoch</td><td>2</td></tr><tr><td>eval_aux_loss</td><td>0.42899</td></tr><tr><td>eval_cancer_loss</td><td>0.8404</td></tr><tr><td>eval_f1</td><td>0.20606</td></tr><tr><td>eval_f1_thres</td><td>0.67</td></tr><tr><td>eval_loss</td><td>41.16557</td></tr><tr><td>loss</td><td>36.61747</td></tr><tr><td>lr</td><td>0.0</td></tr><tr><td>max_eval_f1</td><td>0.20606</td></tr></table><br/></div></div>"
      ],
      "text/plain": [
       "<IPython.core.display.HTML object>"
      ]
     },
     "metadata": {},
     "output_type": "display_data"
    },
    {
     "data": {
      "text/html": [
       " View run <strong style=\"color:#cdcd00\">seresnext50_32x4d_lr0.0004_ep3_bs8_pw20_aux94_adam_aug_drop0.0-f4</strong> at: <a href=\"https://wandb.ai/xiaosuhu86/RSNA-breast-cancer-v4/runs/3mfejoh3\" target=\"_blank\">https://wandb.ai/xiaosuhu86/RSNA-breast-cancer-v4/runs/3mfejoh3</a><br/>Synced 5 W&B file(s), 0 media file(s), 3 artifact file(s) and 0 other file(s)"
      ],
      "text/plain": [
       "<IPython.core.display.HTML object>"
      ]
     },
     "metadata": {},
     "output_type": "display_data"
    },
    {
     "data": {
      "text/html": [
       "Find logs at: <code>./wandb/run-20230212_144329-3mfejoh3/logs</code>"
      ],
      "text/plain": [
       "<IPython.core.display.HTML object>"
      ]
     },
     "metadata": {},
     "output_type": "display_data"
    }
   ],
   "source": [
    "def gc_collect():\n",
    "    gc.collect()\n",
    "    torch.cuda.empty_cache()\n",
    "    # torch.cuda.clear_memory_allocated()\n",
    "\n",
    "def add_weight_decay(model, weight_decay=1e-5, skip_list=()):\n",
    "    decay = []\n",
    "    no_decay = []\n",
    "    for name, param in model.named_parameters():\n",
    "        if not param.requires_grad:\n",
    "            continue\n",
    "        if len(param.shape) == 1 or np.any([v in name.lower()  for v in skip_list]):\n",
    "            # print(name, 'no decay')\n",
    "            no_decay.append(param)\n",
    "        else:\n",
    "            # print(name, 'decay')\n",
    "            decay.append(param)\n",
    "    return [\n",
    "        {'params': no_decay, 'weight_decay': 0.},\n",
    "        {'params': decay, 'weight_decay': weight_decay}]\n",
    "\n",
    "def train_model(ds_train, ds_eval, logger, name, config=Config, do_save_model=True):\n",
    "    torch.manual_seed(42)\n",
    "    dl_train = torch.utils.data.DataLoader(ds_train, batch_size=config.BATCH_SIZE, shuffle=True, num_workers=NUM_WORKERS, pin_memory=True)\n",
    "\n",
    "    model = BreastCancerModel(AUX_TARGET_NCLASSES, config.MODEL_TYPE, config.DROPOUT).to(DEVICE)\n",
    "\n",
    "    if config.ADAMW:\n",
    "        optim = torch.optim.AdamW(add_weight_decay(model, weight_decay=config.ADAMW_DECAY, skip_list=['bias']), lr=config.ONE_CYCLE_MAX_LR, betas=(0.9, 0.999), weight_decay=config.ADAMW_DECAY)\n",
    "    else:\n",
    "        optim = torch.optim.Adam(model.parameters())\n",
    "\n",
    "\n",
    "    scheduler = None\n",
    "    if config.ONE_CYCLE:\n",
    "        scheduler = torch.optim.lr_scheduler.OneCycleLR(optim, max_lr=config.ONE_CYCLE_MAX_LR, epochs=config.EPOCHS,\n",
    "                                                        steps_per_epoch=len(dl_train),\n",
    "                                                        pct_start=config.ONE_CYCLE_PCT_START)\n",
    "        \n",
    "    \n",
    "\n",
    "    scaler = GradScaler()\n",
    "    best_eval_score = 0\n",
    "    for epoch in tqdm(range(config.EPOCHS), desc='Epoch'):\n",
    "\n",
    "        model.train()\n",
    "        with tqdm(dl_train, desc='Train', mininterval=30) as train_progress:\n",
    "            for batch_idx, (X, y_cancer, y_aux) in enumerate(train_progress):\n",
    "                y_aux = y_aux.to(DEVICE)\n",
    "\n",
    "                optim.zero_grad()\n",
    "                # Using mixed precision training\n",
    "                with autocast():\n",
    "                    y_cancer_pred, aux_pred = model.forward(X.to(DEVICE))\n",
    "                    cancer_loss = torch.nn.functional.binary_cross_entropy_with_logits(\n",
    "                        y_cancer_pred,\n",
    "                        y_cancer.to(float).to(DEVICE),\n",
    "                        pos_weight=torch.tensor([config.POSITIVE_TARGET_WEIGHT]).to(DEVICE)\n",
    "                    )\n",
    "                    aux_loss = torch.mean(torch.stack([torch.nn.functional.cross_entropy(aux_pred[i], y_aux[:, i]) for i in range(y_aux.shape[-1])]))\n",
    "                    loss = cancer_loss + config.AUX_LOSS_WEIGHT * aux_loss\n",
    "                    if np.isinf(loss.item()) or np.isnan(loss.item()):\n",
    "                        print(f'Bad loss, skipping the batch {batch_idx}')\n",
    "                        del loss, cancer_loss, y_cancer_pred\n",
    "                        gc_collect()\n",
    "                        continue\n",
    "\n",
    "                # scaler is needed to prevent \"gradient underflow\"\n",
    "                scaler.scale(loss).backward()\n",
    "                scaler.step(optim)\n",
    "                if scheduler is not None:\n",
    "                    scheduler.step()\n",
    "                    \n",
    "                scaler.update()\n",
    "\n",
    "                lr = scheduler.get_last_lr()[0] if scheduler else config.ONE_CYCLE_MAX_LR\n",
    "                logger.log({'loss': (loss.item()),\n",
    "                            'cancer_loss': cancer_loss.item(),\n",
    "                            'aux_loss': aux_loss.item(),\n",
    "                            'lr': lr,\n",
    "                            'epoch': epoch})\n",
    "\n",
    "\n",
    "        if ds_eval is not None and MAX_EVAL_BATCHES > 0:\n",
    "            cancer_loss, (f1, thres), _, loss, aux_loss = evaluate_model(\n",
    "                model, ds_eval, max_batches=MAX_EVAL_BATCHES, shuffle=False, config=config)\n",
    "\n",
    "            if f1 > best_eval_score:\n",
    "                best_eval_score = f1\n",
    "                if do_save_model:\n",
    "                    save_model(name, model, thres, config.MODEL_TYPE)\n",
    "                    art = wandb.Artifact(\"rsna-breast-cancer\", type=\"model\")\n",
    "                    art.add_file(f'{name}')\n",
    "                    logger.log_artifact(art)\n",
    "\n",
    "            logger.log(\n",
    "                {\n",
    "                    'eval_cancer_loss': cancer_loss,\n",
    "                    'eval_f1': f1,\n",
    "                    'max_eval_f1': best_eval_score,\n",
    "                    'eval_f1_thres': thres,\n",
    "                    'eval_loss': loss,\n",
    "                    'eval_aux_loss': aux_loss,\n",
    "                    'epoch': epoch\n",
    "                }\n",
    "            )\n",
    "\n",
    "    return model\n",
    "\n",
    "\n",
    "# N-fold models. Can be used to estimate accurate CV score and in ensembled submissions.\n",
    "\n",
    "if TRAIN:\n",
    "    for fold in FOLDS:\n",
    "         name = f'{WANDB_RUN_NAME}-f{fold}'\n",
    "         with wandb.init(project=WANDB_PROJECT, name=name, group=WANDB_RUN_NAME) as run:\n",
    "            gc_collect()\n",
    "            ds_train = BreastCancerDataSet(df_train.query('split != @fold'), TRAIN_IMAGES_PATH, get_transforms(aug=Config.AUG))\n",
    "            ds_eval = BreastCancerDataSet(df_train.query('split == @fold'), TRAIN_IMAGES_PATH, get_transforms(aug=False))\n",
    "            train_model(ds_train, ds_eval, run, f'model-f{fold}')"
   ]
  },
  {
   "cell_type": "code",
   "execution_count": 17,
   "metadata": {},
   "outputs": [],
   "source": [
    "if WANDB_SWEEP:\n",
    "    sweep_id = os.environ.get('SWEEP_ID')\n",
    "    print('wandb sweep ', sweep_id)\n",
    "\n",
    "    if sweep_id is None:\n",
    "        \"\"\"\n",
    "        First run. Generate sweep_id.\n",
    "        \"\"\"\n",
    "        sweep_id = wandb.sweep(sweep={\n",
    "            'method': 'bayes',\n",
    "            'name': 'rsna-sweep',\n",
    "            'metric': {'goal': 'maximize', 'name': 'max_eval_f1'},\n",
    "            'parameters':\n",
    "                {\n",
    "                    'ONE_CYCLE': {'values': [True, False]},\n",
    "                    'ONE_CYCLE_PCT_START': {'values': [0.1]},\n",
    "                    'ADAMW': {'values': [True, False]},\n",
    "                    'ADAMW_DECAY': {'min': 0.001, 'max': 0.1, 'distribution': 'log_uniform_values'},\n",
    "                    'ONE_CYCLE_MAX_LR': {'min': 1e-5, 'max': 1e-3, 'distribution': 'log_uniform_values'},\n",
    "                    'EPOCHS': {'min': 1, 'max': 12, 'distribution': 'q_log_uniform_values'},\n",
    "                    'MODEL_TYPE': {'values': ['resnext50_32x4d', 'efficientnetv2_rw_s', 'seresnext50_32x4d', 'inception_v4', 'efficientnet_b4']},\n",
    "                    'DROPOUT': {'values': [0., 0.2]},\n",
    "                    'AUG': {'values': [True, False]},\n",
    "                    'AUX_LOSS_WEIGHT': {'min': 0.01, 'max': 100., 'distribution': 'log_uniform_values'},\n",
    "                    'POSITIVE_TARGET_WEIGHT': {'min': 1., 'max': 60., 'distribution': 'uniform'},\n",
    "                    'BATCH_SIZE': {'values': [32]},\n",
    "                    'AUTO_AUG_M': {'min': 1, 'max': 20, 'distribution': 'q_log_uniform_values'},\n",
    "                    'AUTO_AUG_N': {'min': 1, 'max': 6, 'distribution': 'q_uniform'},\n",
    "                    'TTA': {'values': [False]},\n",
    "                }\n",
    "        }, project=WANDB_SWEEP_PROJECT)\n",
    "        print('Generated sweep id', sweep_id)\n",
    "    else:\n",
    "        \"\"\"\n",
    "        Agent run. Use sweep_id generated above to produce (semi)-random hyperparameters run.config\n",
    "        \"\"\"\n",
    "        def wandb_callback():\n",
    "            with wandb.init() as run:\n",
    "                print('params', run.config)\n",
    "                fold = 0\n",
    "                ds_train = BreastCancerDataSet(df_train.query('split != @fold'), TRAIN_IMAGES_PATH, get_transforms(aug=run.config.AUG))\n",
    "                ds_eval = BreastCancerDataSet(df_train.query('split == @fold'), TRAIN_IMAGES_PATH, get_transforms(aug=False))\n",
    "                train_model(ds_train, ds_eval, run, f'model-f{fold}', config=run.config, do_save_model=False)\n",
    "\n",
    "\n",
    "        # Start sweep job.\n",
    "        wandb.agent(sweep_id, project=WANDB_SWEEP_PROJECT, function=wandb_callback, count=100000)"
   ]
  },
  {
   "cell_type": "code",
   "execution_count": 18,
   "metadata": {},
   "outputs": [
    {
     "data": {
      "text/plain": [
       "[]"
      ]
     },
     "execution_count": 18,
     "metadata": {},
     "output_type": "execute_result"
    }
   ],
   "source": [
    "models = [load_model(model, MODELS_PATH, BreastCancerModel(AUX_TARGET_NCLASSES))[0] for model in sorted(os.listdir(MODELS_PATH))]\n",
    "models"
   ]
  },
  {
   "cell_type": "code",
   "execution_count": 20,
   "metadata": {},
   "outputs": [
    {
     "name": "stderr",
     "output_type": "stream",
     "text": [
      "Eval: 100%|██████████| 1367/1367 [01:32<00:00, 14.71it/s]\n",
      "/tmp/ipykernel_2439/1030292389.py:15: RuntimeWarning: invalid value encountered in scalar divide\n",
      "  c_precision = ctp / (ctp + cfp)\n",
      "Eval: 100%|██████████| 1369/1369 [01:32<00:00, 14.74it/s]95.37s/it]\n",
      "/tmp/ipykernel_2439/1030292389.py:15: RuntimeWarning: invalid value encountered in scalar divide\n",
      "  c_precision = ctp / (ctp + cfp)\n",
      "Eval: 100%|██████████| 1368/1368 [01:33<00:00, 14.64it/s]95.34s/it]\n",
      "/tmp/ipykernel_2439/1030292389.py:15: RuntimeWarning: invalid value encountered in scalar divide\n",
      "  c_precision = ctp / (ctp + cfp)\n",
      "Eval: 100%|██████████| 1368/1368 [01:33<00:00, 14.64it/s]95.58s/it]\n",
      "/tmp/ipykernel_2439/1030292389.py:15: RuntimeWarning: invalid value encountered in scalar divide\n",
      "  c_precision = ctp / (ctp + cfp)\n",
      "Eval: 100%|██████████| 1368/1368 [01:33<00:00, 14.67it/s]95.66s/it]\n",
      "/tmp/ipykernel_2439/1030292389.py:15: RuntimeWarning: invalid value encountered in scalar divide\n",
      "  c_precision = ctp / (ctp + cfp)\n",
      "Eval fold:4 pF1:0.27: 100%|██████████| 5/5 [07:57<00:00, 95.60s/it]"
     ]
    },
    {
     "name": "stdout",
     "output_type": "stream",
     "text": [
      "site_id,patient_id,image_id,laterality,view,age,cancer,biopsy,invasive,BIRADS,implant,density,machine_id,difficult_negative_case,split,cancer_pred_proba,cancer_pred\n",
      "0,25,822390278,1,1,6,0,0,0,1,0,1,3,0,0,0.1741,False\n",
      "0,25,1442180348,0,5,6,0,0,0,1,0,1,3,0,0,0.3914,False\n",
      "0,25,1723979573,1,5,6,0,0,0,1,0,1,3,0,0,0.2474,False\n",
      "0,25,1789648218,0,1,6,0,0,0,1,0,1,3,0,0,0.31,False\n",
      "0,25,1962456803,1,5,6,0,0,0,1,0,1,3,0,0,0.1076,False\n",
      "0,25,1997933901,1,1,6,0,0,0,1,0,1,3,0,0,0.1772,False\n",
      "0,49,323049527,1,1,2,0,0,0,1,0,1,3,0,0,0.4072,False\n",
      "0,49,373605482,0,1,2,0,0,0,1,0,1,3,0,0,0.01698,False\n",
      "0,49,872677361,1,5,2,0,0,0,1,0,1,3,0,0,0.03015,False\n"
     ]
    },
    {
     "name": "stderr",
     "output_type": "stream",
     "text": [
      "\n"
     ]
    }
   ],
   "source": [
    "def gen_predictions(models, df_train):\n",
    "    df_train_predictions = []\n",
    "    with tqdm(enumerate(models), total=len(models), desc='Folds') as progress:\n",
    "        for fold, model in progress:\n",
    "            if model is not None:\n",
    "                ds_eval = BreastCancerDataSet(df_train.query('split == @fold'), TRAIN_IMAGES_PATH, get_transforms(aug=False))\n",
    "\n",
    "                cancer_loss, (f1, thres), pred_cancer = evaluate_model(model, ds_eval, PREDICT_MAX_BATCHES)[:3]\n",
    "                progress.set_description(f'Eval fold:{fold} pF1:{f1:.02f}')\n",
    "                df_pred = pd.DataFrame(data=pred_cancer,\n",
    "                                              columns=['cancer_pred_proba'])\n",
    "                df_pred['cancer_pred'] = df_pred.cancer_pred_proba > thres\n",
    "\n",
    "                df = pd.concat(\n",
    "                    [df_train.query('split == @fold').reset_index(drop=True), df_pred],\n",
    "                    axis=1\n",
    "                ).sort_values(['patient_id', 'image_id'])\n",
    "                df_train_predictions.append(df)\n",
    "    df_train_predictions = pd.concat(df_train_predictions)\n",
    "    return df_train_predictions\n",
    "\n",
    "if CV:\n",
    "    models = [load_model(model, MODELS_PATH, BreastCancerModel(AUX_TARGET_NCLASSES))[0] for model in sorted(os.listdir(MODELS_PATH))]\n",
    "    df_pred = gen_predictions(models, df_train)\n",
    "    df_pred.to_csv('train_predictions.csv', index=False)\n",
    "    !head train_predictions.csv"
   ]
  },
  {
   "cell_type": "code",
   "execution_count": 21,
   "metadata": {},
   "outputs": [
    {
     "name": "stdout",
     "output_type": "stream",
     "text": [
      "F1 CV score (multiple thresholds): 0.2422310756972112\n"
     ]
    },
    {
     "name": "stderr",
     "output_type": "stream",
     "text": [
      "/tmp/ipykernel_2439/1030292389.py:15: RuntimeWarning: invalid value encountered in scalar divide\n",
      "  c_precision = ctp / (ctp + cfp)\n"
     ]
    },
    {
     "name": "stdout",
     "output_type": "stream",
     "text": [
      "pF1 CV score. Mean aggregation, single threshold: (0.2926829268292683, 0.65)\n",
      "pF1 CV score. Max aggregation, single threshold: (0.28482328482328484, 0.91)\n"
     ]
    }
   ],
   "source": [
    "if CV:\n",
    "    df_pred = pd.read_csv('train_predictions.csv')\n",
    "    print('F1 CV score (multiple thresholds):', sklearn.metrics.f1_score(df_pred.cancer, df_pred.cancer_pred))    \n",
    "    df_pred = df_pred.groupby(['patient_id', 'laterality']).agg(\n",
    "        cancer_max=('cancer_pred_proba', 'max'), cancer_mean=('cancer_pred_proba', 'mean'), cancer=('cancer', 'max')\n",
    "    )\n",
    "    print('pF1 CV score. Mean aggregation, single threshold:', optimal_f1(df_pred.cancer.values, df_pred.cancer_mean.values))\n",
    "    print('pF1 CV score. Max aggregation, single threshold:', optimal_f1(df_pred.cancer.values, df_pred.cancer_max.values))"
   ]
  },
  {
   "cell_type": "code",
   "execution_count": null,
   "metadata": {},
   "outputs": [],
   "source": []
  }
 ],
 "metadata": {
  "kernelspec": {
   "display_name": "Python 3",
   "language": "python",
   "name": "python3"
  },
  "language_info": {
   "codemirror_mode": {
    "name": "ipython",
    "version": 3
   },
   "file_extension": ".py",
   "mimetype": "text/x-python",
   "name": "python",
   "nbconvert_exporter": "python",
   "pygments_lexer": "ipython3",
   "version": "3.10.6"
  },
  "orig_nbformat": 4,
  "vscode": {
   "interpreter": {
    "hash": "916dbcbb3f70747c44a77c7bcd40155683ae19c65e1c03b4aa3499c5328201f1"
   }
  }
 },
 "nbformat": 4,
 "nbformat_minor": 2
}
